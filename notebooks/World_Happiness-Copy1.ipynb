{
 "cells": [
  {
   "cell_type": "code",
   "execution_count": null,
   "id": "1b218298-ecf0-4ad4-89da-8ead97c80698",
   "metadata": {},
   "outputs": [],
   "source": [
    "import pandas as pd\n",
    "import numpy as np\n",
    "import seaborn as sns\n",
    "import matplotlib.pyplot as plt"
   ]
  },
  {
   "cell_type": "code",
   "execution_count": null,
   "id": "3744e3af-f5c9-4217-9cf3-17294e7d7f26",
   "metadata": {},
   "outputs": [],
   "source": [
    "#import and read .csv files\n",
    "data2018= pd.read_csv('../data_files/raw/2018.csv', encoding='ISO-8859-1')\n",
    "data2019= pd.read_csv('../data_files/raw/2019.csv', encoding='ISO-8859-1')\n",
    "ata2020= pd.read_csv('../data_files/raw/2020.csv', encoding='ISO-8859-1')\n",
    "data2021= pd.read_csv('../data_files/raw/2021.csv', encoding='ISO-8859-1')\n",
    "data2022= pd.read_csv('../data_files/raw/2022.csv', encoding='ISO-8859-1')"
   ]
  },
  {
   "cell_type": "code",
   "execution_count": null,
   "id": "130396a5-a9a6-4419-aec2-63db41deb912",
   "metadata": {},
   "outputs": [],
   "source": [
    "data2018.columns"
   ]
  },
  {
   "cell_type": "code",
   "execution_count": null,
   "id": "41fe18ad-2d48-4565-8047-6336c4f440ff",
   "metadata": {},
   "outputs": [],
   "source": [
    "data2021.columns"
   ]
  },
  {
   "cell_type": "code",
   "execution_count": null,
   "id": "dd9b5006-fa6c-4ce8-a5ad-d4ba129cefeb",
   "metadata": {},
   "outputs": [],
   "source": [
    "data2022.columns"
   ]
  },
  {
   "cell_type": "code",
   "execution_count": null,
   "id": "6a2a3211-e362-4b08-b15d-7254b3d9072d",
   "metadata": {},
   "outputs": [],
   "source": [
    "data2021.describe()"
   ]
  },
  {
   "cell_type": "code",
   "execution_count": null,
   "id": "73f71d63-b34e-43ff-a58b-aeab8ea8c23b",
   "metadata": {},
   "outputs": [],
   "source": [
    "data2021.describe(include=\"object\")"
   ]
  },
  {
   "cell_type": "code",
   "execution_count": null,
   "id": "71ae3f18-1c74-4d63-9227-829169cc1ee8",
   "metadata": {},
   "outputs": [],
   "source": [
    "data2022.describe()"
   ]
  },
  {
   "cell_type": "code",
   "execution_count": null,
   "id": "dd06173d-f74c-4239-916e-c8c84d3bfd8e",
   "metadata": {},
   "outputs": [],
   "source": [
    "data2022.describe(include=\"object\")"
   ]
  },
  {
   "cell_type": "code",
   "execution_count": null,
   "id": "4a77357b-eef8-4d50-993b-a58aecc10722",
   "metadata": {},
   "outputs": [],
   "source": [
    "data2021.nunique()"
   ]
  },
  {
   "cell_type": "code",
   "execution_count": null,
   "id": "b781272f-333a-4769-b18e-5fba2126c534",
   "metadata": {},
   "outputs": [],
   "source": [
    "data2022.nunique()"
   ]
  },
  {
   "cell_type": "code",
   "execution_count": null,
   "id": "084b2763-8c3f-49f4-a76e-f2f62aa31b9b",
   "metadata": {},
   "outputs": [],
   "source": [
    "data2021.isna().any()\n",
    "# we don´t have missing values"
   ]
  },
  {
   "cell_type": "code",
   "execution_count": null,
   "id": "e51b2fba-c29b-4d85-a3b7-6c3e0e6139ab",
   "metadata": {},
   "outputs": [],
   "source": [
    "data2022.isna().any()\n",
    "# We have missing values in 10 columns "
   ]
  },
  {
   "cell_type": "code",
   "execution_count": null,
   "id": "b8d0c778-6307-4e8e-94e2-e5f8ba653a2c",
   "metadata": {},
   "outputs": [],
   "source": [
    "data2022.isna().sum(axis=0)\n",
    "# We have only 1 missing value in 10 columns "
   ]
  },
  {
   "cell_type": "code",
   "execution_count": null,
   "id": "ec8555a9-9123-41f5-82b3-2d9b40dc12c1",
   "metadata": {},
   "outputs": [],
   "source": [
    "data2021.columns"
   ]
  },
  {
   "cell_type": "code",
   "execution_count": null,
   "id": "c43bb870-1e91-4629-8c73-25fbca65d21a",
   "metadata": {},
   "outputs": [],
   "source": [
    "data2021.columns= [\n",
    "    \"country\", \"rank\", \"happiness\", \"std\", \"high\", \"low\", \"GDP\", \"social_support\", \n",
    "    \"healthy\", \"freedom\", \"generosity\", \"corruption\", \"dystopia\", \"exp_GDP\", \"exp_social\",\n",
    "    \"exp_healthy\", \"exp_freedom\", \"exp_generosity\", \"exp_corruption\", \"dystopia_residual\"\n",
    "]"
   ]
  },
  {
   "cell_type": "code",
   "execution_count": null,
   "id": "394c56a1-a947-4270-ab7e-2e7ee70d0a52",
   "metadata": {},
   "outputs": [],
   "source": [
    "data2021.columns"
   ]
  },
  {
   "cell_type": "code",
   "execution_count": null,
   "id": "26cbb5f2-64f8-49dc-b1dc-f9652daacf81",
   "metadata": {},
   "outputs": [],
   "source": [
    "data2022.columns"
   ]
  },
  {
   "cell_type": "code",
   "execution_count": null,
   "id": "babe0425-0f0f-42f1-953c-2352fdaa1f60",
   "metadata": {},
   "outputs": [],
   "source": [
    "data2022.columns= [\n",
    "    \"rank\",\"country\", \"happiness\", \"high\", \"low\", \"dystopia_residual\", \"exp_GDP\", \"exp_social\",\n",
    "    \"exp_healthy\", \"exp_freedom\", \"exp_generosity\", \"exp_corruption\", \n",
    "]"
   ]
  },
  {
   "cell_type": "code",
   "execution_count": null,
   "id": "7b6d7312-410f-4709-b911-927d9a1e3934",
   "metadata": {},
   "outputs": [],
   "source": [
    "data2022.columns"
   ]
  },
  {
   "cell_type": "code",
   "execution_count": null,
   "id": "d4a2316f-c82f-4792-af07-b1e7fd4e9039",
   "metadata": {},
   "outputs": [],
   "source": [
    "data2021.columns"
   ]
  },
  {
   "cell_type": "code",
   "execution_count": null,
   "id": "7c158822-d601-4806-b947-6cb5f80aac9f",
   "metadata": {},
   "outputs": [],
   "source": [
    "# Change the second column to be the first\n",
    "columns = data2021.columns.tolist()\n",
    "columns = [columns[1]] + [columns[0]] + columns[2:]\n",
    "\n",
    "# Reorder DataFrame with new column order\n",
    "data2021 = data2021[columns]\n",
    "data2021.columns"
   ]
  },
  {
   "cell_type": "code",
   "execution_count": null,
   "id": "395a1351-31d4-4335-9d01-82f0a2ae6aa0",
   "metadata": {},
   "outputs": [],
   "source": [
    "data2021= data2021[[\"rank\", \"country\", \"happiness\", \"exp_GDP\", \"exp_social\", \"exp_healthy\", \"exp_freedom\",\n",
    "                   \"exp_generosity\", \"exp_corruption\", \"dystopia_residual\", \"std\", \"high\", \"low\", \"GDP\", \"social_support\",\n",
    "                   \"healthy\", \"freedom\", \"generosity\", \"corruption\", \"dystopia\",]]"
   ]
  },
  {
   "cell_type": "code",
   "execution_count": null,
   "id": "ab7b0e34-4abb-48b6-a718-5b2341ca5bbd",
   "metadata": {},
   "outputs": [],
   "source": [
    "data2021.columns"
   ]
  },
  {
   "cell_type": "code",
   "execution_count": null,
   "id": "c3089b7f-ad94-46b6-9462-f9fb60cb9a3e",
   "metadata": {},
   "outputs": [],
   "source": [
    "data2022.columns"
   ]
  },
  {
   "cell_type": "code",
   "execution_count": null,
   "id": "d20a365f-55da-4eb7-ba64-14e6e5a3aebd",
   "metadata": {},
   "outputs": [],
   "source": [
    "data2022= data2022[['rank', 'country', 'happiness', 'exp_GDP', 'exp_social', 'exp_healthy', 'exp_freedom', 'exp_generosity'\n",
    "                    ,'exp_corruption', 'dystopia_residual','high', 'low',  \n",
    "                   ]]"
   ]
  },
  {
   "cell_type": "code",
   "execution_count": null,
   "id": "0d528c31-212d-4b10-a577-dc258b7cbf3e",
   "metadata": {},
   "outputs": [],
   "source": [
    "data2022.columns"
   ]
  },
  {
   "cell_type": "code",
   "execution_count": null,
   "id": "43e16045-6391-4d8c-972f-0f0e41e4232e",
   "metadata": {},
   "outputs": [],
   "source": [
    "data2021 = data2021.drop(columns=['std', 'high', 'low', 'GDP', 'social_support', 'healthy', 'freedom',\n",
    "       'generosity', 'corruption', 'dystopia'])"
   ]
  },
  {
   "cell_type": "code",
   "execution_count": null,
   "id": "d83b92de-7cc0-4a2e-8bad-11a59864340a",
   "metadata": {},
   "outputs": [],
   "source": [
    "data2021.columns"
   ]
  },
  {
   "cell_type": "code",
   "execution_count": null,
   "id": "24e199e1-ada1-4a98-b18d-ea909c3c13a4",
   "metadata": {},
   "outputs": [],
   "source": [
    "data2022 = data2022.drop(columns=['high', 'low'])\n",
    "data2022.columns"
   ]
  },
  {
   "cell_type": "code",
   "execution_count": null,
   "id": "8c9d96aa-91c6-4154-9cdf-9d39ef843e6b",
   "metadata": {},
   "outputs": [],
   "source": [
    "data2021.country.unique()"
   ]
  },
  {
   "cell_type": "code",
   "execution_count": null,
   "id": "4f7a1933-0365-4cf7-9b17-c21abe7cc681",
   "metadata": {},
   "outputs": [],
   "source": [
    "data2022.country.unique()"
   ]
  },
  {
   "cell_type": "code",
   "execution_count": null,
   "id": "92cf6362-70fe-4a45-8c0b-fb4db751be1f",
   "metadata": {},
   "outputs": [],
   "source": [
    "data2022['country'] = data2022['country'].str.replace('*', '', regex=False)"
   ]
  },
  {
   "cell_type": "code",
   "execution_count": null,
   "id": "846a7c9f-7f5e-40f2-89d4-e8d96a60de89",
   "metadata": {},
   "outputs": [],
   "source": [
    "data2022.country.unique()"
   ]
  },
  {
   "cell_type": "code",
   "execution_count": null,
   "id": "0ca8246b-f083-4330-9b9f-a35760d8af28",
   "metadata": {},
   "outputs": [],
   "source": [
    "data2022.tail(10)"
   ]
  },
  {
   "cell_type": "code",
   "execution_count": null,
   "id": "704b9ac0-8bfa-4c0b-aea7-61f72140e4c6",
   "metadata": {},
   "outputs": [],
   "source": [
    "data2022 = data2022.drop(146)"
   ]
  },
  {
   "cell_type": "code",
   "execution_count": null,
   "id": "b3f7e7c3-5cf3-44b7-9c80-7fc3004eccb1",
   "metadata": {},
   "outputs": [],
   "source": [
    "data2022.tail(10)"
   ]
  },
  {
   "cell_type": "code",
   "execution_count": null,
   "id": "7f642f41-e738-454c-8a9d-37eb875226fa",
   "metadata": {},
   "outputs": [],
   "source": [
    "data2021.head(10)"
   ]
  },
  {
   "cell_type": "code",
   "execution_count": null,
   "id": "9fa4a83f-7a8d-4c4b-b493-4f040a219403",
   "metadata": {},
   "outputs": [],
   "source": [
    "data2021.columns"
   ]
  },
  {
   "cell_type": "code",
   "execution_count": null,
   "id": "064aaf1b-b743-4806-8847-b8c875c7396d",
   "metadata": {},
   "outputs": [],
   "source": [
    "data2021.tail(5)"
   ]
  },
  {
   "cell_type": "code",
   "execution_count": null,
   "id": "3413dcba-df5f-46f5-b0fe-c66b483f87f1",
   "metadata": {},
   "outputs": [],
   "source": [
    "data2021['rank'] = range(1, 1 + len(data2021))"
   ]
  },
  {
   "cell_type": "code",
   "execution_count": null,
   "id": "9b92abda-b5e3-4092-bae3-03f6db2c5cdd",
   "metadata": {},
   "outputs": [],
   "source": [
    "data2021.columns"
   ]
  },
  {
   "cell_type": "code",
   "execution_count": null,
   "id": "0cb8803c-2abd-44ea-b3e6-9af098c395b9",
   "metadata": {},
   "outputs": [],
   "source": [
    "data2021.columns=['rank', 'country', 'happiness', 'GDP', 'social_support', 'healthy',\n",
    "       'freedom', 'generosity', 'corruption', 'dystopia']\n",
    "data2021.columns"
   ]
  },
  {
   "cell_type": "code",
   "execution_count": null,
   "id": "3353fc6a-650a-42e8-98f6-586350360bb2",
   "metadata": {},
   "outputs": [],
   "source": [
    "data2022.columns"
   ]
  },
  {
   "cell_type": "code",
   "execution_count": null,
   "id": "8e36dea2-3e58-417b-9d89-3b8eaae2aa56",
   "metadata": {},
   "outputs": [],
   "source": [
    "data2022.columns=['rank', 'country', 'happiness', 'GDP', 'social_support', 'healthy',\n",
    "       'freedom', 'generosity', 'corruption', 'dystopia']\n",
    "data2022.columns"
   ]
  },
  {
   "cell_type": "code",
   "execution_count": null,
   "id": "7c392f1e-9ca6-4b0e-91ae-2f6e8e908480",
   "metadata": {},
   "outputs": [],
   "source": [
    "data2022.describe(include=\"object\")"
   ]
  },
  {
   "cell_type": "code",
   "execution_count": null,
   "id": "cd1151e7-c9d0-45d3-8bd8-45cde2e5c53b",
   "metadata": {},
   "outputs": [],
   "source": [
    "year_value = 2021\n",
    "\n",
    "# Create a new column with the year 2021\n",
    "data2021['year'] = year_value\n",
    "data2021.columns"
   ]
  },
  {
   "cell_type": "code",
   "execution_count": null,
   "id": "3feb99d6-1584-49ae-aba8-a92a9a68e77f",
   "metadata": {},
   "outputs": [],
   "source": [
    "data2021.tail(5)"
   ]
  },
  {
   "cell_type": "code",
   "execution_count": null,
   "id": "aa337fb2-438b-48cf-9521-4b0e9171e6a4",
   "metadata": {},
   "outputs": [],
   "source": [
    "year2_value = 2022\n",
    "\n",
    "# Create a new column with the year 2021\n",
    "data2022['year'] = year2_value\n",
    "data2022.columns"
   ]
  },
  {
   "cell_type": "code",
   "execution_count": null,
   "id": "c35ef196-0ec1-4c01-bcfd-201dba1b0910",
   "metadata": {},
   "outputs": [],
   "source": [
    "data2022.tail(5)"
   ]
  },
  {
   "cell_type": "code",
   "execution_count": null,
   "id": "e1d44bbe-0a5b-4911-a73a-5e8217c12154",
   "metadata": {},
   "outputs": [],
   "source": [
    "columns_to_numerical = ['happiness', 'GDP', 'social_support', 'healthy', 'freedom', 'generosity','corruption', 'dystopia']\n",
    "\n",
    "for col in columns_to_numerical:\n",
    "    data2022[col] = data2022[col].apply(lambda x: float( x.replace(\",\",\".\") ) )"
   ]
  },
  {
   "cell_type": "code",
   "execution_count": null,
   "id": "708160a4-72dd-49ae-ac61-a5e4d0575210",
   "metadata": {},
   "outputs": [],
   "source": [
    "data2022.info()"
   ]
  },
  {
   "cell_type": "code",
   "execution_count": null,
   "id": "f2f8f601-0a9f-4a4f-b3eb-7f9cd04a3b29",
   "metadata": {},
   "outputs": [],
   "source": [
    "data2021.info()"
   ]
  }
 ],
 "metadata": {
  "kernelspec": {
   "display_name": "Python 3 (ipykernel)",
   "language": "python",
   "name": "python3"
  },
  "language_info": {
   "codemirror_mode": {
    "name": "ipython",
    "version": 3
   },
   "file_extension": ".py",
   "mimetype": "text/x-python",
   "name": "python",
   "nbconvert_exporter": "python",
   "pygments_lexer": "ipython3",
   "version": "3.12.3"
  }
 },
 "nbformat": 4,
 "nbformat_minor": 5
}

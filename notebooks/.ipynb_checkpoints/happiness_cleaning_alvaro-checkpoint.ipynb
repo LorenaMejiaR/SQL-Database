{
 "cells": [
  {
   "cell_type": "code",
   "execution_count": null,
   "id": "e3a3c548-3b8d-48cc-be6e-8b43252d6d0d",
   "metadata": {},
   "outputs": [],
   "source": [
    "import pandas as pd\n",
    "import os\n",
    "import glob\n",
    "import numpy as np\n",
    "from matplotlib import pyplot as plt\n",
    "import seaborn as sns"
   ]
  },
  {
   "cell_type": "code",
   "execution_count": null,
   "id": "d530640c-5dc9-48c3-ac72-58e041c28336",
   "metadata": {},
   "outputs": [],
   "source": [
    "# Load the data (assuming it's stored as a CSV file)\n",
    "df_2018 = pd.read_csv('C:/Users/faval/Desktop/Ironhack/DataAnalytics/week4/SQL-Database/data_files/clean/2018_clean.csv')\n",
    "df_2019 = pd.read_csv('C:/Users/faval/Desktop/Ironhack/DataAnalytics/week4/SQL-Database/data_files/clean/2019_clean.csv')\n",
    "df_2020 = pd.read_csv('C:/Users/faval/Desktop/Ironhack/DataAnalytics/week4/SQL-Database/data_files/clean/2020_clean.csv')\n",
    "df_2021 = pd.read_csv('C:/Users/faval/Desktop/Ironhack/DataAnalytics/week4/SQL-Database/data_files/clean/2021_clean.csv')\n",
    "df_2022 = pd.read_csv('C:/Users/faval/Desktop/Ironhack/DataAnalytics/week4/SQL-Database/data_files/clean/2022_clean.csv')"
   ]
  },
  {
   "cell_type": "code",
   "execution_count": null,
   "id": "52110681-8f96-4f71-9c04-8f850a955d56",
   "metadata": {},
   "outputs": [],
   "source": [
    "# Define function to format columns names\n",
    "def format_columns(df,year):\n",
    "    df.columns = df.columns.str.strip().str.lower().str.replace(' ', '_')\n",
    "    return df"
   ]
  },
  {
   "cell_type": "code",
   "execution_count": null,
   "id": "632557cb-e47d-4e70-8f2f-7300a20e1582",
   "metadata": {},
   "outputs": [],
   "source": [
    "# Format column names\n",
    "df_2018 = format_columns(df_2018, 2018)\n",
    "df_2019 = format_columns(df_2019, 2019)\n",
    "df_2020 = format_columns(df_2020, 2020)\n",
    "df_2020 = format_columns(df_2020, 2021)\n",
    "df_2020 = format_columns(df_2020, 2022)"
   ]
  },
  {
   "cell_type": "code",
   "execution_count": null,
   "id": "b7bc3e58-46f4-4bee-99fe-2a3b6c959ecb",
   "metadata": {},
   "outputs": [],
   "source": [
    "# Calculate \"dystopia\" for year 2018 and 2019\n",
    "sum_of_factors = df_2018['gdp'] + df_2018['social_support'] + df_2018['healthy'] + df_2018['freedom'] + df_2018['generosity'] + df_2018['corruption']\n",
    "df_2018['dystopia'] = df_2018['happiness'] - sum_of_factors\n",
    "\n",
    "sum_of_factors = df_2019['gdp2019'] + df_2019['social_support2019'] + df_2019['healthy2019'] + df_2019['freedom2019'] + df_2019['generosity2019'] + df_2019['corruption2019']\n",
    "df_2019['dystopia'] = df_2019['happiness2019'] - sum_of_factors"
   ]
  },
  {
   "cell_type": "code",
   "execution_count": null,
   "id": "19120d17-55b1-4e4f-bd65-f5313f4fdb31",
   "metadata": {},
   "outputs": [],
   "source": [
    "df_2018.head()"
   ]
  },
  {
   "cell_type": "code",
   "execution_count": null,
   "id": "27b92762-8ee9-4f78-aa0d-a39eda84f6c8",
   "metadata": {},
   "outputs": [],
   "source": [
    "# Rename columns for all years\n",
    "original_columns = ['year', 'rank2019', 'country', 'happiness2019', 'gdp2019',\n",
    "                    'social_support2019', 'healthy2019', 'freedom2019', 'generosity2019',\n",
    "                    'corruption2019', 'dystopia']\n",
    "new_column_names = {col: col.replace('2019', '') for col in original_columns}\n",
    "df_2019 = df_2019.rename(columns=new_column_names)\n",
    "df_2019 = df_2019.rename(columns={'GDP': 'gdp'})\n",
    "df_2019.head(2)"
   ]
  },
  {
   "cell_type": "code",
   "execution_count": null,
   "id": "26d01c6c-83fe-41d1-9387-5148489afd55",
   "metadata": {},
   "outputs": [],
   "source": [
    "# Rename columns for all years\n",
    "original_columns = ['year', 'rank2020', 'country', 'happiness2020', 'gdp2020',\n",
    "                    'social_support2020', 'healthy2020', 'freedom2020', 'generosity2020',\n",
    "                    'corruption2020', 'dystopia2020']\n",
    "new_column_names = {col: col.replace('2020', '') for col in original_columns}\n",
    "df_2020 = df_2020.rename(columns=new_column_names)\n",
    "df_2020 = df_2020.rename(columns={'GDP': 'gdp'})\n",
    "df_2020.head(2)"
   ]
  },
  {
   "cell_type": "code",
   "execution_count": null,
   "id": "a5295e26-530e-4cb9-902a-768eaf1ad095",
   "metadata": {},
   "outputs": [],
   "source": [
    "# Rename columns for all years\n",
    "original_columns = ['year', 'rank2021', 'country', 'happiness2021', 'GDP2021',\n",
    "                    'social_support2021', 'healthy2021', 'freedom2021', 'generosity2021',\n",
    "                    'corruption2021', 'dystopia2021']\n",
    "new_column_names = {col: col.replace('2021', '') for col in original_columns}\n",
    "df_2021 = df_2021.rename(columns=new_column_names)\n",
    "df_2021 = df_2021.rename(columns={'GDP': 'gdp'})\n",
    "df_2021.head(2)"
   ]
  },
  {
   "cell_type": "code",
   "execution_count": null,
   "id": "bc2e083f-86f3-48e7-9197-f5842ad24973",
   "metadata": {},
   "outputs": [],
   "source": [
    "# Rename columns for all years\n",
    "original_columns = ['year', 'rank2022', 'country', 'happiness2022', 'GDP2022',\n",
    "                    'social_support2022', 'healthy2022', 'freedom2022', 'generosity2022',\n",
    "                    'corruption2022', 'dystopia2022']\n",
    "new_column_names = {col: col.replace('2022', '') for col in original_columns}\n",
    "df_2022 = df_2022.rename(columns=new_column_names)\n",
    "df_2022 = df_2022.rename(columns={'GDP': 'gdp'})\n",
    "df_2022.head(2)"
   ]
  },
  {
   "cell_type": "code",
   "execution_count": null,
   "id": "c31c81c1-7fe6-455e-8e40-d39930a8d054",
   "metadata": {},
   "outputs": [],
   "source": [
    "# Concat all df into one df\n",
    "df_total = pd.concat([df_2018, df_2019, df_2020, df_2021, df_2022], axis=0, ignore_index=True)\n",
    "df_total.info()"
   ]
  },
  {
   "cell_type": "code",
   "execution_count": null,
   "id": "08e95d72-4c31-41f2-ae77-885e49886b5b",
   "metadata": {},
   "outputs": [],
   "source": [
    "# Drop rows with missing values\n",
    "df_total = df_total.dropna()\n",
    "df_total.info()"
   ]
  },
  {
   "cell_type": "code",
   "execution_count": null,
   "id": "ce537b51-fb56-4f83-826b-a36fe7a1663a",
   "metadata": {},
   "outputs": [],
   "source": [
    "# Save to .csv new df\n",
    "df_total.to_csv('df_total.csv', index=False)"
   ]
  },
  {
   "cell_type": "code",
   "execution_count": null,
   "id": "b91264ca-c5a9-4d26-bf49-1725cad93561",
   "metadata": {},
   "outputs": [],
   "source": [
    "# I need unique countries for SQL\n",
    "unique_countries = df_total['country'].unique()\n",
    "df_countries = pd.DataFrame(unique_countries, columns=['country'])\n",
    "df_countries = pd.DataFrame({'country_id': range(1, len(unique_countries) + 1), 'country': unique_countries})\n",
    "df_countries"
   ]
  },
  {
   "cell_type": "code",
   "execution_count": null,
   "id": "e0bd94f5-20d0-4625-8484-c2134eafaaf2",
   "metadata": {},
   "outputs": [],
   "source": [
    "df_countries.to_csv('df_countries.csv', index=False)"
   ]
  },
  {
   "cell_type": "code",
   "execution_count": null,
   "id": "0c2cedbb-d253-4243-976a-9723c02d9795",
   "metadata": {},
   "outputs": [],
   "source": [
    "results = {\n",
    "    'year': ['2018', '2019', '2020', '2021', '2022'],\n",
    "    'mean': [\n",
    "        df_2018['happiness'].mean(),\n",
    "        df_2019['happiness'].mean(),\n",
    "        df_2020['happiness'].mean(),\n",
    "        df_2021['happiness'].mean(),\n",
    "        df_2022['happiness'].mean()\n",
    "\n",
    "    ],\n",
    "    'median': [\n",
    "        df_2018['happiness'].median(),\n",
    "        df_2019['happiness'].median(),\n",
    "        df_2020['happiness'].median(),\n",
    "        df_2021['happiness'].median(),\n",
    "        df_2022['happiness'].median()\n",
    "\n",
    "    ],\n",
    "    'std': [\n",
    "        df_2018['happiness'].std(),\n",
    "        df_2019['happiness'].std(),\n",
    "        df_2020['happiness'].std(),\n",
    "        df_2021['happiness'].std(),\n",
    "        df_2022['happiness'].std()\n",
    "\n",
    "    ]\n",
    "}\n",
    "df_summary = pd.DataFrame(results)\n",
    "df_summary"
   ]
  },
  {
   "cell_type": "code",
   "execution_count": null,
   "id": "0e5fd00d-47f9-432a-afa9-46dcac28d0ea",
   "metadata": {},
   "outputs": [],
   "source": [
    "plt.figure(figsize=(10, 6))\n",
    "plt.plot(df_summary['year'], df_summary['mean'], label='Mean', marker='o')\n",
    "plt.title('Mean of Score Over Years')\n",
    "plt.xlabel('Year')\n",
    "plt.ylabel('Value')\n",
    "plt.legend()\n",
    "plt.show()"
   ]
  },
  {
   "cell_type": "code",
   "execution_count": null,
   "id": "f527648a-0f42-48ce-9096-991d18bc02cb",
   "metadata": {},
   "outputs": [],
   "source": []
  }
 ],
 "metadata": {
  "kernelspec": {
   "display_name": "Python 3 (ipykernel)",
   "language": "python",
   "name": "python3"
  },
  "language_info": {
   "codemirror_mode": {
    "name": "ipython",
    "version": 3
   },
   "file_extension": ".py",
   "mimetype": "text/x-python",
   "name": "python",
   "nbconvert_exporter": "python",
   "pygments_lexer": "ipython3",
   "version": "3.12.3"
  }
 },
 "nbformat": 4,
 "nbformat_minor": 5
}

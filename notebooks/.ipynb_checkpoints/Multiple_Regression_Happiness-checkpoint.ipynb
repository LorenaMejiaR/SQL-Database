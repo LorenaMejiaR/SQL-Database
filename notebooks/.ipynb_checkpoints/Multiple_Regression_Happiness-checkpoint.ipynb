{
 "cells": [
  {
   "cell_type": "code",
   "execution_count": null,
   "id": "de7e5195-92a2-4ee2-838a-50350bd57b36",
   "metadata": {},
   "outputs": [],
   "source": [
    "import pandas as pd\n",
    "import numpy as np\n",
    "import seaborn as sns\n",
    "import matplotlib.pyplot as plt\n",
    "import statsmodels.api as sm"
   ]
  },
  {
   "cell_type": "code",
   "execution_count": null,
   "id": "520cded4-9284-45e7-a3fd-e49240507544",
   "metadata": {},
   "outputs": [],
   "source": [
    "data= pd.read_csv('df_total.csv', encoding='ISO-8859-1')"
   ]
  },
  {
   "cell_type": "code",
   "execution_count": null,
   "id": "2d8e1ee5-7891-42eb-95ad-e98faf603fc3",
   "metadata": {},
   "outputs": [],
   "source": [
    "data.columns"
   ]
  },
  {
   "cell_type": "code",
   "execution_count": null,
   "id": "98e90091-d526-44c1-8d31-575635335b39",
   "metadata": {},
   "outputs": [],
   "source": [
    "# Multiple regression \n",
    "# X is your independent variable(s), y is the dependent variable\n",
    "X = data[['gdp', 'social_support', 'healthy', \"freedom\"]]  \n",
    "y = data['happiness']\n",
    "\n",
    "# Add a constant to the independent variables (for the intercept term)\n",
    "# y_pred = b0 + b1 * 'GDP2022' + b2 * 'social_support2022' +...\n",
    "# y_pred = b0 * 1 + b1 * 'GDP2022' + b2 * 'social_support2022' +...\n",
    "# y_pred = b0 * (X0 = 1) + b1 * 'GDP2022' + b2 * 'social_support2022' +...\n",
    "X = sm.add_constant(X) \n",
    "\n",
    "# Fit the model\n",
    "model = sm.OLS(y, X).fit()\n",
    "\n",
    "# Print the summary of the regression\n",
    "print(model.summary())"
   ]
  },
  {
   "cell_type": "code",
   "execution_count": null,
   "id": "3e24e561-23cc-45a3-ae09-189762bc703b",
   "metadata": {},
   "outputs": [],
   "source": [
    "# List\n",
    "columns_list = ['happiness', 'gdp', 'healthy', 'social_support','freedom', \"corruption\", \"generosity\"]\n",
    "\n",
    "# Corr\n",
    "correlation_matrix = data[columns_list].corr()"
   ]
  },
  {
   "cell_type": "code",
   "execution_count": null,
   "id": "a292c9c4-44f2-412e-bdd6-82d4a0f3e74e",
   "metadata": {},
   "outputs": [],
   "source": [
    "# Figure\n",
    "plt.figure(figsize=(10, 8))\n",
    "sns.heatmap(correlation_matrix, annot=True, fmt=\".2f\", cmap='coolwarm', cbar=True)\n",
    "\n",
    "plt.title('Correlation Matrix')\n",
    "\n",
    "plt.xticks(rotation=45, ha='right')\n",
    "plt.yticks(rotation=0)\n",
    "\n",
    "plt.show()"
   ]
  },
  {
   "cell_type": "code",
   "execution_count": null,
   "id": "486eb749-c14d-4577-94c0-1d6ec825095d",
   "metadata": {},
   "outputs": [],
   "source": [
    "plt.figure(figsize=(10, 6))\n",
    "plt.scatter(data['freedom'], data['happiness'], alpha=0.7, edgecolors='w', s=100)\n",
    "plt.title('Freedom and Happiness Score')\n",
    "plt.xlabel('Freedom to make choices')\n",
    "plt.ylabel('Happiness Score)')\n",
    "plt.grid(True)\n",
    "plt.show()"
   ]
  },
  {
   "cell_type": "code",
   "execution_count": null,
   "id": "0b1529ec-d58f-4386-bc63-2329678a064f",
   "metadata": {},
   "outputs": [],
   "source": [
    "plt.figure(figsize=(10, 6))\n",
    "plt.scatter(data['healthy'], data['happiness'], alpha=0.7, edgecolors='w', s=100)\n",
    "plt.title('Healthy life and Happiness Score')\n",
    "plt.xlabel('Healthy life expectancy')\n",
    "plt.ylabel('Happiness Score)')\n",
    "plt.grid(True)\n",
    "plt.show()"
   ]
  },
  {
   "cell_type": "code",
   "execution_count": null,
   "id": "23524202-c1a1-4507-9c92-a82460043ca9",
   "metadata": {},
   "outputs": [],
   "source": [
    "plt.figure(figsize=(10, 6))\n",
    "plt.scatter(data['gdp'], data['happiness'], alpha=0.7, edgecolors='w', s=100)\n",
    "plt.title('GDP and Happiness Score')\n",
    "plt.xlabel('GDP')\n",
    "plt.ylabel('Happiness Score')\n",
    "plt.grid(True)\n",
    "plt.show()"
   ]
  },
  {
   "cell_type": "code",
   "execution_count": null,
   "id": "7873448e-6be6-4894-b9c1-e11db3922350",
   "metadata": {},
   "outputs": [],
   "source": [
    "plt.figure(figsize=(10, 6))\n",
    "plt.scatter(data['social_support'], data['happiness'], alpha=0.7, edgecolors='w', s=100)\n",
    "plt.title('Social support and Happiness Score')\n",
    "plt.xlabel('Social Support')\n",
    "plt.ylabel('Happiness Score)')\n",
    "plt.grid(True)\n",
    "plt.show()"
   ]
  },
  {
   "cell_type": "code",
   "execution_count": null,
   "id": "1d609bdc-0426-4744-8ed8-1fe1ddb10aad",
   "metadata": {},
   "outputs": [],
   "source": [
    "plt.figure(figsize=(10, 6))\n",
    "plt.scatter(data['corruption'], data['happiness'], alpha=0.7, edgecolors='w', s=100)\n",
    "plt.title('Perceived corruption and Happiness Score')\n",
    "plt.xlabel('Perceived Corruption')\n",
    "plt.ylabel('Happiness Score)')\n",
    "plt.grid(True)\n",
    "plt.show()"
   ]
  },
  {
   "cell_type": "code",
   "execution_count": null,
   "id": "03912fa0-6e1b-44ce-bace-2d4a9d312079",
   "metadata": {},
   "outputs": [],
   "source": [
    "plt.figure(figsize=(10, 6))\n",
    "plt.scatter(data['generosity'], data['happiness'], alpha=0.7, edgecolors='w', s=100)\n",
    "plt.title('Generosity and Happiness Score')\n",
    "plt.xlabel('Generosity')\n",
    "plt.ylabel('Happiness Score)')\n",
    "plt.grid(True)\n",
    "plt.show()"
   ]
  },
  {
   "cell_type": "code",
   "execution_count": null,
   "id": "9cd52fb3-ca8e-480c-8c2a-2d5213e2b56c",
   "metadata": {},
   "outputs": [],
   "source": []
  }
 ],
 "metadata": {
  "kernelspec": {
   "display_name": "Python 3 (ipykernel)",
   "language": "python",
   "name": "python3"
  },
  "language_info": {
   "codemirror_mode": {
    "name": "ipython",
    "version": 3
   },
   "file_extension": ".py",
   "mimetype": "text/x-python",
   "name": "python",
   "nbconvert_exporter": "python",
   "pygments_lexer": "ipython3",
   "version": "3.12.3"
  }
 },
 "nbformat": 4,
 "nbformat_minor": 5
}

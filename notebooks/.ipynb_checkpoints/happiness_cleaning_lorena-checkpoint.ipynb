{
 "cells": [
  {
   "cell_type": "code",
   "execution_count": null,
   "id": "1b218298-ecf0-4ad4-89da-8ead97c80698",
   "metadata": {},
   "outputs": [],
   "source": [
    "import pandas as pd\n",
    "import numpy as np\n",
    "import seaborn as sns\n",
    "import matplotlib.pyplot as plt\n",
    "import statsmodels.api as sm"
   ]
  },
  {
   "cell_type": "code",
   "execution_count": null,
   "id": "3744e3af-f5c9-4217-9cf3-17294e7d7f26",
   "metadata": {},
   "outputs": [],
   "source": [
    "#import and read .csv files\n",
    "data2018= pd.read_csv('../data_files/raw/2018.csv', encoding='ISO-8859-1')\n",
    "data2019= pd.read_csv('../data_files/raw/2019.csv', encoding='ISO-8859-1')\n",
    "data2020= pd.read_csv('../data_files/raw/2020.csv', encoding='ISO-8859-1')\n",
    "data2021= pd.read_csv('../data_files/raw/2021.csv', encoding='ISO-8859-1')\n",
    "data2022= pd.read_csv('../data_files/raw/2022.csv', encoding='ISO-8859-1')"
   ]
  },
  {
   "cell_type": "code",
   "execution_count": null,
   "id": "e08ed14a-4dca-4bf8-b097-833408d4bb5b",
   "metadata": {},
   "outputs": [],
   "source": [
    "#Function to clean columns names\n",
    "def format_columns(df,year):\n",
    "    df.columns = df.columns.str.strip().str.lower().str.replace(' ', '_')\n",
    "    df.insert(0, 'year', year)\n",
    "    return df"
   ]
  },
  {
   "cell_type": "code",
   "execution_count": null,
   "id": "395a1351-31d4-4335-9d01-82f0a2ae6aa0",
   "metadata": {},
   "outputs": [],
   "source": [
    "data2018 = format_columns(data2018, 2018)\n",
    "data2019 = format_columns(data2019, 2019)\n",
    "data2020 = format_columns(data2020, 2020)\n",
    "data2021 = format_columns(data2021, 2021)\n",
    "data2022 = format_columns(data2022, 2022)"
   ]
  },
  {
   "cell_type": "code",
   "execution_count": null,
   "id": "d20a365f-55da-4eb7-ba64-14e6e5a3aebd",
   "metadata": {},
   "outputs": [],
   "source": [
    "#Rename the columns\n",
    "data2018 = data2018.rename(columns={'score': 'ladder_score'})"
   ]
  },
  {
   "cell_type": "code",
   "execution_count": null,
   "id": "43e16045-6391-4d8c-972f-0f0e41e4232e",
   "metadata": {},
   "outputs": [],
   "source": [
    "data2019 = data2019.rename(columns={'score': 'ladder_score'})"
   ]
  },
  {
   "cell_type": "code",
   "execution_count": null,
   "id": "e1d44bbe-0a5b-4911-a73a-5e8217c12154",
   "metadata": {},
   "outputs": [],
   "source": [
    "#sort df_202 by ladder_score to be sure is sorted, restart index and place rank to each country\n",
    "data2020 = data2020.sort_values(by='ladder_score', ascending=False)\n",
    "data2020.reset_index(drop=True, inplace=True)\n",
    "data2020.insert(1, \"rank\", range(1, len(data2020) + 1))"
   ]
  },
  {
   "cell_type": "code",
   "execution_count": null,
   "id": "9168cdfe-b580-40d8-8bf9-30d94eafe56e",
   "metadata": {},
   "outputs": [],
   "source": [
    "# columns to drop\n",
    "columns_to_keep_2020 = [\n",
    "    'year',\n",
    "    'rank',\n",
    "    'country_name',\n",
    "    'ladder_score',\n",
    "    'explained_by:_log_gdp_per_capita',\n",
    "    'explained_by:_social_support',\n",
    "    'explained_by:_healthy_life_expectancy',\n",
    "    'explained_by:_freedom_to_make_life_choices',\n",
    "    'explained_by:_generosity',\n",
    "    'explained_by:_perceptions_of_corruption',\n",
    "    'dystopia_+_residual'\n",
    "]\n",
    "data2020 = data2020[columns_to_keep_2020]\n",
    "data2020.head()"
   ]
  },
  {
   "cell_type": "code",
   "execution_count": null,
   "id": "5a1cbb19-8a16-45f9-95fd-8ab9ecbc470d",
   "metadata": {},
   "outputs": [],
   "source": [
    "data2018.columns= [\n",
    "    \"year\", \"rank\", \"country\", \"happiness\", \"GDP\", \"social_support\", \n",
    "    \"healthy\", \"freedom\", \"generosity\", \"corruption\"\n",
    "]"
   ]
  },
  {
   "cell_type": "code",
   "execution_count": null,
   "id": "6d0178a7-1e3e-45f9-a031-93bfd93686b5",
   "metadata": {},
   "outputs": [],
   "source": [
    "data2019.columns= [\n",
    "    \"year\", \"rank\", \"country\", \"happiness\", \"GDP\", \"social_support\", \n",
    "    \"healthy\", \"freedom\", \"generosity\", \"corruption\"\n",
    "]"
   ]
  },
  {
   "cell_type": "code",
   "execution_count": null,
   "id": "c477f6af-324f-4cc1-a599-d1dffeed7d6d",
   "metadata": {},
   "outputs": [],
   "source": [
    "data2020.columns= [\n",
    "    \"year\", \"rank\", \"country\", \"happiness\", \"GDP\", \"social_support\", \n",
    "    \"healthy\", \"freedom\", \"generosity\", \"corruption\", \"dystopia\"\n",
    "]"
   ]
  },
  {
   "cell_type": "code",
   "execution_count": null,
   "id": "abbe1301-f6b9-43ed-a40e-ea1a1695ce71",
   "metadata": {},
   "outputs": [],
   "source": [
    "data2021.columns= [\n",
    "    \"year\", \"country\", \"region\", \"happiness\", \"std\", \"high\", \"low\", \"GDP\", \"social_support\", \n",
    "    \"healthy\", \"freedom\", \"generosity\", \"corruption\", \"dystopia\", \"exp_GDP\", \"exp_social\",\n",
    "    \"exp_healthy\", \"exp_freedom\", \"exp_generosity\", \"exp_corruption\", \"dystopia_residual\"\n",
    "]"
   ]
  },
  {
   "cell_type": "code",
   "execution_count": null,
   "id": "4e86e824-4a4e-4895-b824-b8c6ce1704e9",
   "metadata": {},
   "outputs": [],
   "source": [
    "# columns to drop in 2021\n",
    "columns_to_keep_2021 = [\n",
    "    'year',\n",
    "    'country',\n",
    "    'happiness',\n",
    "    'exp_GDP',\n",
    "    'exp_social',\n",
    "    'exp_healthy',\n",
    "    'exp_freedom',\n",
    "    'exp_generosity',\n",
    "    'exp_corruption',\n",
    "    'dystopia_residual'\n",
    "]\n",
    "data2021 = data2021[columns_to_keep_2021]\n",
    "data2021.head()"
   ]
  },
  {
   "cell_type": "code",
   "execution_count": null,
   "id": "b7e4d440-467b-4bb5-9301-b670ac07efdd",
   "metadata": {},
   "outputs": [],
   "source": [
    "# add columns RANK to 2021\n",
    "data2021.loc[:, 'rank'] = range(1, len(data2021) + 1)\n",
    "# Insert 'rank' as the second column\n",
    "data2021.insert(1, 'rank', data2021.pop('rank'))\n",
    "data2021.columns"
   ]
  },
  {
   "cell_type": "code",
   "execution_count": null,
   "id": "5f1ce06f-4dff-4879-9394-f59ef24f0210",
   "metadata": {},
   "outputs": [],
   "source": [
    "data2021.columns= [\n",
    "    \"year\", \"rank\", \"country\", \"happiness\", \"GDP\", \"social_support\", \n",
    "    \"healthy\", \"freedom\", \"generosity\", \"corruption\", \"dystopia\"\n",
    "]\n",
    "data2021.columns"
   ]
  },
  {
   "cell_type": "code",
   "execution_count": null,
   "id": "549e5979-234a-459a-9455-f62bedf49a60",
   "metadata": {},
   "outputs": [],
   "source": [
    "data2022.columns= [\n",
    "    \"year\",\"rank\",\"country\", \"happiness\", \"high\", \"low\", \"dystopia\", \"GDP\", \"social_support\",\n",
    "    \"healthy\", \"freedom\", \"generosity\", \"corruption\", \n",
    "]\n",
    "data2022 = data2022.drop(columns=['high', 'low'])\n",
    "data2022.columns"
   ]
  },
  {
   "cell_type": "code",
   "execution_count": null,
   "id": "4cf3c819-fecd-444d-8bcb-8d0b9292035a",
   "metadata": {},
   "outputs": [],
   "source": [
    "# To clean the country names and delete the last row\n",
    "data2022['country'] = data2022['country'].str.replace('*', '', regex=False)\n",
    "data2022 = data2022.drop(146)\n",
    "data2022"
   ]
  },
  {
   "cell_type": "code",
   "execution_count": null,
   "id": "74fa789d-e4a2-4554-94fb-5c50cb294688",
   "metadata": {},
   "outputs": [],
   "source": [
    "# To change the order of the columns\n",
    "new_column_order = [\n",
    "    'year', 'rank', 'country', 'happiness', 'GDP', \n",
    "    'social_support', 'healthy', 'freedom', 'generosity', \n",
    "    'corruption', 'dystopia'\n",
    "]\n",
    "data2022 = data2022[new_column_order]"
   ]
  },
  {
   "cell_type": "code",
   "execution_count": null,
   "id": "e78191e0-4af5-4776-bc91-4f1090b54b52",
   "metadata": {},
   "outputs": [],
   "source": [
    "# To change the data types of the columns that should be numerical \n",
    "columns_to_numerical = ['happiness', 'GDP', 'social_support', 'healthy', 'freedom', 'generosity','corruption', 'dystopia']"
   ]
  },
  {
   "cell_type": "code",
   "execution_count": null,
   "id": "7f362c4e-3d5b-45e9-bc31-76d3e1434d2d",
   "metadata": {},
   "outputs": [],
   "source": [
    "for col in columns_to_numerical:\n",
    "    data2022[col] = data2022[col].apply(lambda x: float( x.replace(\",\",\".\") ) )"
   ]
  },
  {
   "cell_type": "code",
   "execution_count": null,
   "id": "b728a84d-04ca-48e0-b62e-415947bdc233",
   "metadata": {},
   "outputs": [],
   "source": [
    "data2019.columns= [\n",
    "    \"year\", \"rank2019\", \"country\", \"happiness2019\", \"GDP2019\", \"social_support2019\", \n",
    "    \"healthy2019\", \"freedom2019\", \"generosity2019\", \"corruption2019\"\n",
    "]"
   ]
  },
  {
   "cell_type": "code",
   "execution_count": null,
   "id": "c621f1ec-da35-41e0-b3da-dbf95ad153b2",
   "metadata": {},
   "outputs": [],
   "source": [
    "data2020.columns= [\n",
    "    \"year\", \"rank2020\", \"country\", \"happiness2020\", \"GDP2020\", \"social_support2020\", \n",
    "    \"healthy2020\", \"freedom2020\", \"generosity2020\", \"corruption2020\", \"dystopia2020\"\n",
    "]"
   ]
  },
  {
   "cell_type": "code",
   "execution_count": null,
   "id": "f895604f-4ca9-429f-8b49-4fd9cc0deaa2",
   "metadata": {},
   "outputs": [],
   "source": [
    "data2021.columns= [\n",
    "    \"year\", \"rank2021\", \"country\", \"happiness2021\", \"GDP2021\", \"social_support2021\", \n",
    "    \"healthy2021\", \"freedom2021\", \"generosity2021\", \"corruption2021\", \"dystopia2021\"\n",
    "]"
   ]
  },
  {
   "cell_type": "code",
   "execution_count": null,
   "id": "556a7374-76ac-491f-b051-87e9c9ccf2c6",
   "metadata": {},
   "outputs": [],
   "source": [
    "data2022.columns= [\n",
    "    \"year\", \"rank2022\", \"country\", \"happiness2022\", \"GDP2022\", \"social_support2022\", \n",
    "    \"healthy2022\", \"freedom2022\", \"generosity2022\", \"corruption2022\", \"dystopia2022\"\n",
    "]"
   ]
  },
  {
   "cell_type": "code",
   "execution_count": null,
   "id": "bb918534-e2f7-4d37-bcb3-9019a2cc4b79",
   "metadata": {},
   "outputs": [],
   "source": [
    "results = {\n",
    "    'year': ['2018', '2019', '2020', \"2021\", \"2022\"],\n",
    "    'mean': [\n",
    "        data2018['happiness'].mean(),\n",
    "        data2019['happiness2019'].mean(),\n",
    "        data2020['happiness2020'].mean(),\n",
    "        data2021['happiness2021'].mean(),\n",
    "        data2022['happiness2022'].mean()\n",
    "        \n",
    "    ],\n",
    "    'median': [\n",
    "        data2018['happiness'].median(),\n",
    "        data2019['happiness2019'].median(),\n",
    "        data2020['happiness2020'].median(),\n",
    "        data2021['happiness2021'].median(),\n",
    "        data2022['happiness2022'].median()\n",
    "    ],\n",
    "    'std': [\n",
    "        data2018['happiness'].std(),\n",
    "        data2019['happiness2019'].std(),\n",
    "        data2020['happiness2020'].std(),\n",
    "        data2021['happiness2021'].std(),\n",
    "        data2022['happiness2022'].std()\n",
    "    ]\n",
    "}\n",
    "df_summary = pd.DataFrame(results)\n",
    "df_summary"
   ]
  },
  {
   "cell_type": "code",
   "execution_count": null,
   "id": "af6e8827-c27c-47b6-a900-7076c4ad4b98",
   "metadata": {},
   "outputs": [],
   "source": [
    "#data2018.merge(data2019, on=\"country\", how=\"inner\")\n",
    "pd.concat([data2018, data2019], axis=0)"
   ]
  },
  {
   "cell_type": "code",
   "execution_count": null,
   "id": "a684c53f-3cd1-4e17-bfa8-476318f628cb",
   "metadata": {},
   "outputs": [],
   "source": [
    "plt.figure(figsize=(10, 6))\n",
    "plt.plot(df_summary['year'], df_summary['mean'], label='Mean', marker='o')\n",
    "plt.title('Mean of Happiness score Over Years')\n",
    "plt.xlabel('Year')\n",
    "plt.ylabel('Value')\n",
    "plt.legend()\n",
    "plt.show()"
   ]
  },
  {
   "cell_type": "code",
   "execution_count": null,
   "id": "04d442c5-f288-4e57-a8cc-67a6f74f672b",
   "metadata": {},
   "outputs": [],
   "source": [
    "data2018.to_csv('../data_files/clean/2018_clean.csv', index=False)\n",
    "data2019.to_csv('../data_files/clean/2019_clean.csv', index=False)\n",
    "data2020.to_csv('../data_files/clean/2020_clean.csv', index=False)\n",
    "data2021.to_csv('../data_files/clean/2021_clean.csv', index=False)\n",
    "data2022.to_csv('../data_files/clean/2022_clean.csv', index=False)"
   ]
  },
  {
   "cell_type": "code",
   "execution_count": null,
   "id": "2bb878f1-8b71-498f-a88f-8eb500ba8874",
   "metadata": {},
   "outputs": [],
   "source": [
    "# Multiple regression 2022\n",
    "# X is your independent variable(s), y is the dependent variable\n",
    "X = data2022[['GDP2022', 'social_support2022', 'healthy2022', \"freedom2022\"]]  \n",
    "y = data2022['happiness2022']\n",
    "# Add a constant to the independent variables (for the intercept term)\n",
    "# y_pred = b0 + b1 * 'GDP2022' + b2 * 'social_support2022' +...\n",
    "# y_pred = b0 * 1 + b1 * 'GDP2022' + b2 * 'social_support2022' +...\n",
    "# y_pred = b0 * (X0 = 1) + b1 * 'GDP2022' + b2 * 'social_support2022' +...\n",
    "X = sm.add_constant(X) \n",
    "# Fit the model\n",
    "model = sm.OLS(y, X).fit()\n",
    "# Print the summary of the regression\n",
    "print(model.summary())"
   ]
  },
  {
   "cell_type": "code",
   "execution_count": null,
   "id": "a89c5cbd-1f39-4883-b299-a76d2cce08ce",
   "metadata": {},
   "outputs": [],
   "source": [
    "# List\n",
    "columns_list = ['happiness2022', 'GDP2022', 'social_support2022', 'healthy2022', 'freedom2022',\"generosity2022\", \"corruption2022\"]\n",
    "# Corr\n",
    "correlation_matrix = data2022[columns_list].corr()"
   ]
  },
  {
   "cell_type": "code",
   "execution_count": null,
   "id": "3ae1bdc1-aaf6-4fc4-aef8-63e88fdf7a07",
   "metadata": {},
   "outputs": [],
   "source": [
    "# Figure\n",
    "plt.figure(figsize=(10, 8))\n",
    "sns.heatmap(correlation_matrix, annot=True, fmt=\".2f\", cmap='coolwarm', cbar=True)\n",
    "plt.title('Correlation Matrix')\n",
    "plt.xticks(rotation=45, ha='right')\n",
    "plt.yticks(rotation=0)\n",
    "plt.show()"
   ]
  },
  {
   "cell_type": "code",
   "execution_count": null,
   "id": "fb808780-9cb1-48ae-b2c4-6176cfd60d96",
   "metadata": {},
   "outputs": [],
   "source": [
    "plt.figure(figsize=(10, 6))\n",
    "plt.scatter(data2022['GDP2022'], data2022['happiness2022'], alpha=0.7, edgecolors='w', s=100)\n",
    "plt.title('GDP and Happiness Score 2022')\n",
    "plt.xlabel('GDP')\n",
    "plt.ylabel('Happiness Score)')\n",
    "plt.grid(True)\n",
    "plt.show()"
   ]
  },
  {
   "cell_type": "code",
   "execution_count": null,
   "id": "a1b51602-aea3-47f3-b534-44dbefb17b51",
   "metadata": {},
   "outputs": [],
   "source": [
    "plt.figure(figsize=(10, 6))\n",
    "plt.scatter(data2022['freedom2022'], data2022['happiness2022'], alpha=0.7, edgecolors='w', s=100)\n",
    "plt.title('Freedom and Happiness Score 2022')\n",
    "plt.xlabel('Freedom')\n",
    "plt.ylabel('Happiness Score)')\n",
    "plt.grid(True)\n",
    "plt.show()"
   ]
  },
  {
   "cell_type": "code",
   "execution_count": null,
   "id": "096e0e64-6f6d-4f6b-a8a8-abfcd8959db9",
   "metadata": {},
   "outputs": [],
   "source": [
    "plt.figure(figsize=(10, 6))\n",
    "plt.scatter(data2022['healthy2022'], data2022['happiness2022'], alpha=0.7, edgecolors='w', s=100)\n",
    "plt.title('Healthy and Happiness Score 2022')\n",
    "plt.xlabel('Healthy')\n",
    "plt.ylabel('Happiness Score)')\n",
    "plt.grid(True)\n",
    "plt.show()"
   ]
  },
  {
   "cell_type": "code",
   "execution_count": null,
   "id": "2477f651-b0ab-4220-a4d5-bf85b3ff90e0",
   "metadata": {},
   "outputs": [],
   "source": [
    "plt.figure(figsize=(10, 6))\n",
    "plt.scatter(data2022['social_support2022'], data2022['happiness2022'], alpha=0.7, edgecolors='w', s=100)\n",
    "plt.title('Social support and Happiness Score 2022')\n",
    "plt.xlabel('Social Support')\n",
    "plt.ylabel('Happiness Score)')\n",
    "plt.grid(True)\n",
    "plt.show()"
   ]
  },
  {
   "cell_type": "code",
   "execution_count": null,
   "id": "6613b5bf-ac81-438e-bb12-beef2f31eb48",
   "metadata": {},
   "outputs": [],
   "source": [
    "plt.figure(figsize=(10, 6))\n",
    "plt.scatter(data2022['generosity2022'], data2022['happiness2022'], alpha=0.7, edgecolors='w', s=100)\n",
    "plt.title('Generosity and Happiness Score 2022')\n",
    "plt.xlabel('Generosity')\n",
    "plt.ylabel('Happiness Score)')\n",
    "plt.grid(True)\n",
    "plt.show()"
   ]
  },
  {
   "cell_type": "code",
   "execution_count": null,
   "id": "4b3faa80-3a6b-4e0d-88e0-ddf14cd19186",
   "metadata": {},
   "outputs": [],
   "source": [
    "plt.figure(figsize=(10, 6))\n",
    "plt.scatter(data2022['corruption2022'], data2022['happiness2022'], alpha=0.7, edgecolors='w', s=100)\n",
    "plt.title('Corruption and Happiness Score 2022')\n",
    "plt.xlabel('Corruption')\n",
    "plt.ylabel('Happiness Score)')\n",
    "plt.grid(True)\n",
    "plt.show()"
   ]
  }
 ],
 "metadata": {
  "kernelspec": {
   "display_name": "Python 3 (ipykernel)",
   "language": "python",
   "name": "python3"
  },
  "language_info": {
   "codemirror_mode": {
    "name": "ipython",
    "version": 3
   },
   "file_extension": ".py",
   "mimetype": "text/x-python",
   "name": "python",
   "nbconvert_exporter": "python",
   "pygments_lexer": "ipython3",
   "version": "3.12.3"
  }
 },
 "nbformat": 4,
 "nbformat_minor": 5
}

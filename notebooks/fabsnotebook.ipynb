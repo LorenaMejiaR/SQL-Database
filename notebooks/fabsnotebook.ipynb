{
 "cells": [
  {
   "cell_type": "code",
   "execution_count": null,
   "id": "b65fa070-b9db-4d98-9107-82c47698c8dd",
   "metadata": {},
   "outputs": [],
   "source": [
    "import pandas as pd\n",
    "import os\n",
    "import glob\n",
    "#import statsmodels.api as sm\n",
    "\n",
    "# Moron tries to verify filepath\n",
    "print(os.getcwd())\n",
    "\n",
    "# Define the file path\n",
    "file_path = 'C:/Users/fabia/Documents/Ironhack ALL/Coursework/W4/W4Grouplab/W4GroupLab/data_files/clean/2018_clean.csv'\n",
    "\n",
    "# Checkin if the file exists\n",
    "if os.path.exists(file_path):\n",
    "    print(f\"File found at {file_path}\")\n",
    "    df_2018 = pd.read_csv(file_path)\n",
    "    print(df_2018.head())  # Display the first few rows to confirm data loaded\n",
    "else:\n",
    "    print(f\"File not found: {file_path}\")"
   ]
  },
  {
   "cell_type": "code",
   "execution_count": null,
   "id": "e97bd751-c427-424e-9f67-a8c235364bb5",
   "metadata": {},
   "outputs": [],
   "source": [
    "# Load the data (assuming it's stored as a CSV file)\n",
    "df_2018 = pd.read_csv('C:/Users/fabia/Documents/Ironhack ALL/Coursework/W4/W4Grouplab/W4GroupLab/data_files/clean/2018_clean.csv')\n",
    "df_2019 = pd.read_csv('C:/Users/fabia/Documents/Ironhack ALL/Coursework/W4/W4Grouplab/W4GroupLab/data_files/clean/2019_clean.csv')\n",
    "df_2020 = pd.read_csv('C:/Users/fabia/Documents/Ironhack ALL/Coursework/W4/W4Grouplab/W4GroupLab/data_files/clean/2020_clean.csv')\n",
    "df_2021 = pd.read_csv('C:/Users/fabia/Documents/Ironhack ALL/Coursework/W4/W4Grouplab/W4GroupLab/data_files/clean/2021_clean.csv')\n",
    "df_2022 = pd.read_csv('C:/Users/fabia/Documents/Ironhack ALL/Coursework/W4/W4Grouplab/W4GroupLab/data_files/clean/2022_clean.csv')"
   ]
  },
  {
   "cell_type": "code",
   "execution_count": null,
   "id": "c094d4fa-7940-4161-8f2c-caab5f068cd2",
   "metadata": {
    "scrolled": true
   },
   "outputs": [],
   "source": [
    "''' glob check because blind\n",
    "# List all CSV files in the directory\n",
    "files = glob.glob('data_files/clean/*.csv')\n",
    "print(\"Files found:\", files)\n",
    "\n",
    "# If the specific file is in the list, you can try reading it again\n",
    "if 'data_files/clean/2018_clean.csv' in files:\n",
    "    df_2018 = pd.read_csv('data_files/clean/2018_clean.csv')\n",
    "    '''"
   ]
  },
  {
   "cell_type": "code",
   "execution_count": null,
   "id": "448c7644-8a8c-478d-9b75-b5b3e7ae48d1",
   "metadata": {},
   "outputs": [],
   "source": [
    "# Concatenate all dataframes into one\n",
    "df_all_years = pd.concat([df_2018, df_2019, df_2020, df_2021, df_2022], ignore_index=True)\n",
    "display(df_all_years)"
   ]
  },
  {
   "cell_type": "code",
   "execution_count": null,
   "id": "73243cc3-fe6a-45d9-9689-4b0ffd49d516",
   "metadata": {},
   "outputs": [],
   "source": [
    "#rename map\n",
    "rename_map = {\n",
    "    'GDP2019' : 'GDP',\n",
    "    'happiness2019 : happiness'\n",
    "    'social_support2019' : 'social_support',\n",
    "    'rank2019' : 'rank',\n",
    "    'happiness2019' : 'happiness',\n",
    "    'generosity2019' : 'generosity',\n",
    "    'healthy2019' : 'healthy',\n",
    "    'corruption2019' : 'corruption',\n",
    "    \n",
    "    'happiness2020': 'happiness',\n",
    "    'GDP2020': 'GDP',\n",
    "    'social_support2020': 'social_support',\n",
    "    'healthy2020': 'healthy',\n",
    "    'freedom2020': 'freedom',\n",
    "    'generosity2020': 'generosity',\n",
    "    'corruption2020': 'corruption',\n",
    "    \n",
    "    'happiness2021': 'happiness',\n",
    "    'GDP2021': 'GDP',\n",
    "    'social_support2021': 'social_support',\n",
    "    'healthy2021': 'healthy',\n",
    "    'freedom2021': 'freedom',\n",
    "    'generosity2021': 'generosity',\n",
    "    'corruption2021': 'corruption',\n",
    "    \n",
    "    'happiness2022': 'happiness',\n",
    "    'GDP2022': 'GDP',\n",
    "    'social_support2022': 'social_support',\n",
    "    'healthy2022': 'healthy',\n",
    "    'freedom2022': 'freedom',\n",
    "    'generosity2022': 'generosity',\n",
    "    'corruption2022': 'corruption'\n",
    "}\n",
    "\n",
    "# Rename using dictionary\n",
    "df_all_years.rename(columns=rename_map, inplace=True)\n",
    "# Rename columns dictionary\n",
    "df_all_years.rename(columns=rename_map, inplace=True)\n",
    "\n",
    "# Verify changes, social_support2019 not going away wtf\n",
    "print(df_all_years.columns)"
   ]
  },
  {
   "cell_type": "code",
   "execution_count": null,
   "id": "d2eef669-4aa2-405d-876f-9eb8ea4362e2",
   "metadata": {},
   "outputs": [],
   "source": [
    "# Export the final dataset to a CSV\n",
    "df_all_years.to_csv('combined_happiness_data.csv', index=False)"
   ]
  }
 ],
 "metadata": {
  "kernelspec": {
   "display_name": "Python 3 (ipykernel)",
   "language": "python",
   "name": "python3"
  },
  "language_info": {
   "codemirror_mode": {
    "name": "ipython",
    "version": 3
   },
   "file_extension": ".py",
   "mimetype": "text/x-python",
   "name": "python",
   "nbconvert_exporter": "python",
   "pygments_lexer": "ipython3",
   "version": "3.12.4"
  }
 },
 "nbformat": 4,
 "nbformat_minor": 5
}

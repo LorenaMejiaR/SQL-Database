{
 "cells": [
  {
   "cell_type": "code",
   "execution_count": null,
   "id": "e7b579d5-8642-4acc-bcc0-36e433bedbec",
   "metadata": {},
   "outputs": [],
   "source": [
    "import pandas as pd\n",
    "import os\n",
    "import glob\n",
    "import numpy as np\n",
    "from matplotlib import pyplot as plt\n",
    "import seaborn as sns\n",
    "import geopandas as gpd\n",
    "from matplotlib.patches import Patch"
   ]
  },
  {
   "cell_type": "code",
   "execution_count": null,
   "id": "a0008be9-ff3e-4669-8c9c-76051b918527",
   "metadata": {},
   "outputs": [],
   "source": [
    "shapefile_path = 'C:/Users/faval/Desktop/ARCHIVOS/maps/ne_110m_admin_0_countries.shp'\n",
    "world = gpd.read_file(shapefile_path)"
   ]
  },
  {
   "cell_type": "code",
   "execution_count": null,
   "id": "ebdcb971-5d1c-4770-ae6d-c61eeccc0582",
   "metadata": {},
   "outputs": [],
   "source": [
    "# Load the data \n",
    "df_total_2022 = pd.read_excel('C:/Users/faval/Desktop/ARCHIVOS/df_total_2022.xls')\n",
    "df_total_2022.head()"
   ]
  },
  {
   "cell_type": "code",
   "execution_count": null,
   "id": "43ecc783-7038-4c1c-8ccc-6307ddf7ba78",
   "metadata": {},
   "outputs": [],
   "source": [
    "world = world.merge(df_total_2022, left_on='ADMIN', right_on='country', how='left')"
   ]
  },
  {
   "cell_type": "code",
   "execution_count": null,
   "id": "c55b829d-387f-419c-8173-162f09fb6bde",
   "metadata": {},
   "outputs": [],
   "source": [
    "def color_happiness(score):\n",
    "    if pd.isnull(score):\n",
    "        return 'lightgrey'\n",
    "    elif score > 7:\n",
    "        return 'green'\n",
    "    elif 6 <= score <= 7:\n",
    "        return 'yellow'\n",
    "    elif 5 <= score < 6:\n",
    "        return 'orange'\n",
    "    else:\n",
    "        return 'red'\n",
    "\n",
    "world['color'] = world['happiness'].apply(color_happiness)"
   ]
  },
  {
   "cell_type": "code",
   "execution_count": null,
   "id": "f3f23817-d05f-4c54-9b78-383cff5b6f10",
   "metadata": {},
   "outputs": [],
   "source": [
    "legend_elements = [\n",
    "    Patch(facecolor='green', edgecolor='black', label='> 7: Green'),\n",
    "    Patch(facecolor='yellow', edgecolor='black', label='6 - 7: Yellow'),\n",
    "    Patch(facecolor='orange', edgecolor='black', label='5 - 6: Orange'),\n",
    "    Patch(facecolor='red', edgecolor='black', label='< 5: Red'),\n",
    "    Patch(facecolor='lightgrey', edgecolor='black', label='No Data: Grey')\n",
    "]\n",
    "fig, ax = plt.subplots(1, 1, figsize=(18, 13))\n",
    "world.boundary.plot(ax=ax, linewidth=1)\n",
    "world.plot(column='color', ax=ax, color=world['color'], linewidth=0.2, edgecolor='black')\n",
    "ax.legend(handles=legend_elements, loc='lower left', title=\"Happiness Scores\")\n",
    "ax.set_title('World Happiness Score Map')\n",
    "plt.show()"
   ]
  },
  {
   "cell_type": "code",
   "execution_count": null,
   "id": "8caa0175-5c2b-46a3-85cf-2a9c740f8c8f",
   "metadata": {},
   "outputs": [],
   "source": [
    "plt.savefig('world_happiness_map.png', bbox_inches='tight', dpi=300)"
   ]
  }
 ],
 "metadata": {
  "kernelspec": {
   "display_name": "Python 3 (ipykernel)",
   "language": "python",
   "name": "python3"
  },
  "language_info": {
   "codemirror_mode": {
    "name": "ipython",
    "version": 3
   },
   "file_extension": ".py",
   "mimetype": "text/x-python",
   "name": "python",
   "nbconvert_exporter": "python",
   "pygments_lexer": "ipython3",
   "version": "3.12.3"
  }
 },
 "nbformat": 4,
 "nbformat_minor": 5
}

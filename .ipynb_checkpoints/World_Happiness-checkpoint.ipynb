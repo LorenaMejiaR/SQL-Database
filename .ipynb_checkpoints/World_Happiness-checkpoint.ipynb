{
 "cells": [
  {
   "cell_type": "code",
   "execution_count": 448,
   "id": "1b218298-ecf0-4ad4-89da-8ead97c80698",
   "metadata": {},
   "outputs": [],
   "source": [
    "import pandas as pd\n",
    "import numpy as np\n",
    "import seaborn as sns\n",
    "import matplotlib.pyplot as plt"
   ]
  },
  {
   "cell_type": "code",
   "execution_count": 568,
   "id": "a589971d-46b6-4f7a-a33c-f7855cff840e",
   "metadata": {},
   "outputs": [],
   "source": [
    "data2015 = pd.read_csv('2015.csv', encoding='ISO-8859-1')"
   ]
  },
  {
   "cell_type": "code",
   "execution_count": 570,
   "id": "1bf73cf8-e77f-43a1-ad93-7f2866c3fb4f",
   "metadata": {},
   "outputs": [],
   "source": [
    "data2016 = pd.read_csv('2016.csv', encoding='ISO-8859-1')"
   ]
  },
  {
   "cell_type": "code",
   "execution_count": 572,
   "id": "d1cd018e-c772-468f-8f78-44659b2a4a0c",
   "metadata": {},
   "outputs": [],
   "source": [
    "data2017 = pd.read_csv('2017.csv', encoding='ISO-8859-1')"
   ]
  },
  {
   "cell_type": "code",
   "execution_count": 574,
   "id": "3744e3af-f5c9-4217-9cf3-17294e7d7f26",
   "metadata": {},
   "outputs": [],
   "source": [
    "data2018 = pd.read_csv('2018.csv', encoding='ISO-8859-1')"
   ]
  },
  {
   "cell_type": "code",
   "execution_count": 576,
   "id": "b737de03-f132-48bc-a51b-7f34dc898ff8",
   "metadata": {},
   "outputs": [],
   "source": [
    "data2019 = pd.read_csv('2019.csv', encoding='ISO-8859-1')"
   ]
  },
  {
   "cell_type": "code",
   "execution_count": 578,
   "id": "b5fe2fe8-142a-40c8-8140-3b0cfe2bc582",
   "metadata": {},
   "outputs": [],
   "source": [
    "data2020 = pd.read_csv('2020.csv', encoding='ISO-8859-1')"
   ]
  },
  {
   "cell_type": "code",
   "execution_count": 580,
   "id": "b351d93a-e1fd-41c1-9235-a0560d3600ea",
   "metadata": {},
   "outputs": [],
   "source": [
    "data2021 = pd.read_csv('2021.csv', encoding='ISO-8859-1')"
   ]
  },
  {
   "cell_type": "code",
   "execution_count": 582,
   "id": "34fb5fc6-1e53-487c-9c09-895e5c77fb02",
   "metadata": {},
   "outputs": [],
   "source": [
    "data2022 = pd.read_csv('2022.csv', encoding='ISO-8859-1')"
   ]
  },
  {
   "cell_type": "code",
   "execution_count": 584,
   "id": "130396a5-a9a6-4419-aec2-63db41deb912",
   "metadata": {},
   "outputs": [
    {
     "data": {
      "text/plain": [
       "Index(['Overall rank', 'Country or region', 'Score', 'GDP per capita',\n",
       "       'Social support', 'Healthy life expectancy',\n",
       "       'Freedom to make life choices', 'Generosity',\n",
       "       'Perceptions of corruption'],\n",
       "      dtype='object')"
      ]
     },
     "execution_count": 584,
     "metadata": {},
     "output_type": "execute_result"
    }
   ],
   "source": [
    "data2018.columns"
   ]
  },
  {
   "cell_type": "code",
   "execution_count": 586,
   "id": "41fe18ad-2d48-4565-8047-6336c4f440ff",
   "metadata": {},
   "outputs": [
    {
     "data": {
      "text/plain": [
       "Index(['ï»¿Country name', 'Regional indicator', 'Ladder score',\n",
       "       'Standard error of ladder score', 'upperwhisker', 'lowerwhisker',\n",
       "       'Logged GDP per capita', 'Social support', 'Healthy life expectancy',\n",
       "       'Freedom to make life choices', 'Generosity',\n",
       "       'Perceptions of corruption', 'Ladder score in Dystopia',\n",
       "       'Explained by: Log GDP per capita', 'Explained by: Social support',\n",
       "       'Explained by: Healthy life expectancy',\n",
       "       'Explained by: Freedom to make life choices',\n",
       "       'Explained by: Generosity', 'Explained by: Perceptions of corruption',\n",
       "       'Dystopia + residual'],\n",
       "      dtype='object')"
      ]
     },
     "execution_count": 586,
     "metadata": {},
     "output_type": "execute_result"
    }
   ],
   "source": [
    "data2021.columns"
   ]
  },
  {
   "cell_type": "code",
   "execution_count": 588,
   "id": "dd9b5006-fa6c-4ce8-a5ad-d4ba129cefeb",
   "metadata": {},
   "outputs": [
    {
     "data": {
      "text/plain": [
       "Index(['RANK', 'Country', 'Happiness score', 'Whisker-high', 'Whisker-low',\n",
       "       'Dystopia (1.83) + residual', 'Explained by: GDP per capita',\n",
       "       'Explained by: Social support', 'Explained by: Healthy life expectancy',\n",
       "       'Explained by: Freedom to make life choices',\n",
       "       'Explained by: Generosity', 'Explained by: Perceptions of corruption'],\n",
       "      dtype='object')"
      ]
     },
     "execution_count": 588,
     "metadata": {},
     "output_type": "execute_result"
    }
   ],
   "source": [
    "data2022.columns"
   ]
  },
  {
   "cell_type": "code",
   "execution_count": 590,
   "id": "6a2a3211-e362-4b08-b15d-7254b3d9072d",
   "metadata": {},
   "outputs": [
    {
     "data": {
      "text/html": [
       "<div>\n",
       "<style scoped>\n",
       "    .dataframe tbody tr th:only-of-type {\n",
       "        vertical-align: middle;\n",
       "    }\n",
       "\n",
       "    .dataframe tbody tr th {\n",
       "        vertical-align: top;\n",
       "    }\n",
       "\n",
       "    .dataframe thead th {\n",
       "        text-align: right;\n",
       "    }\n",
       "</style>\n",
       "<table border=\"1\" class=\"dataframe\">\n",
       "  <thead>\n",
       "    <tr style=\"text-align: right;\">\n",
       "      <th></th>\n",
       "      <th>Ladder score</th>\n",
       "      <th>Standard error of ladder score</th>\n",
       "      <th>upperwhisker</th>\n",
       "      <th>lowerwhisker</th>\n",
       "      <th>Logged GDP per capita</th>\n",
       "      <th>Social support</th>\n",
       "      <th>Healthy life expectancy</th>\n",
       "      <th>Freedom to make life choices</th>\n",
       "      <th>Generosity</th>\n",
       "      <th>Perceptions of corruption</th>\n",
       "      <th>Ladder score in Dystopia</th>\n",
       "      <th>Explained by: Log GDP per capita</th>\n",
       "      <th>Explained by: Social support</th>\n",
       "      <th>Explained by: Healthy life expectancy</th>\n",
       "      <th>Explained by: Freedom to make life choices</th>\n",
       "      <th>Explained by: Generosity</th>\n",
       "      <th>Explained by: Perceptions of corruption</th>\n",
       "      <th>Dystopia + residual</th>\n",
       "    </tr>\n",
       "  </thead>\n",
       "  <tbody>\n",
       "    <tr>\n",
       "      <th>count</th>\n",
       "      <td>149.000000</td>\n",
       "      <td>149.000000</td>\n",
       "      <td>149.000000</td>\n",
       "      <td>149.000000</td>\n",
       "      <td>149.000000</td>\n",
       "      <td>149.000000</td>\n",
       "      <td>149.000000</td>\n",
       "      <td>149.000000</td>\n",
       "      <td>149.000000</td>\n",
       "      <td>149.000000</td>\n",
       "      <td>1.490000e+02</td>\n",
       "      <td>149.000000</td>\n",
       "      <td>149.000000</td>\n",
       "      <td>149.000000</td>\n",
       "      <td>149.000000</td>\n",
       "      <td>149.000000</td>\n",
       "      <td>149.000000</td>\n",
       "      <td>149.000000</td>\n",
       "    </tr>\n",
       "    <tr>\n",
       "      <th>mean</th>\n",
       "      <td>5.532839</td>\n",
       "      <td>0.058752</td>\n",
       "      <td>5.648007</td>\n",
       "      <td>5.417631</td>\n",
       "      <td>9.432208</td>\n",
       "      <td>0.814745</td>\n",
       "      <td>64.992799</td>\n",
       "      <td>0.791597</td>\n",
       "      <td>-0.015134</td>\n",
       "      <td>0.727450</td>\n",
       "      <td>2.430000e+00</td>\n",
       "      <td>0.977161</td>\n",
       "      <td>0.793315</td>\n",
       "      <td>0.520161</td>\n",
       "      <td>0.498711</td>\n",
       "      <td>0.178047</td>\n",
       "      <td>0.135141</td>\n",
       "      <td>2.430329</td>\n",
       "    </tr>\n",
       "    <tr>\n",
       "      <th>std</th>\n",
       "      <td>1.073924</td>\n",
       "      <td>0.022001</td>\n",
       "      <td>1.054330</td>\n",
       "      <td>1.094879</td>\n",
       "      <td>1.158601</td>\n",
       "      <td>0.114889</td>\n",
       "      <td>6.762043</td>\n",
       "      <td>0.113332</td>\n",
       "      <td>0.150657</td>\n",
       "      <td>0.179226</td>\n",
       "      <td>5.347044e-15</td>\n",
       "      <td>0.404740</td>\n",
       "      <td>0.258871</td>\n",
       "      <td>0.213019</td>\n",
       "      <td>0.137888</td>\n",
       "      <td>0.098270</td>\n",
       "      <td>0.114361</td>\n",
       "      <td>0.537645</td>\n",
       "    </tr>\n",
       "    <tr>\n",
       "      <th>min</th>\n",
       "      <td>2.523000</td>\n",
       "      <td>0.026000</td>\n",
       "      <td>2.596000</td>\n",
       "      <td>2.449000</td>\n",
       "      <td>6.635000</td>\n",
       "      <td>0.463000</td>\n",
       "      <td>48.478000</td>\n",
       "      <td>0.382000</td>\n",
       "      <td>-0.288000</td>\n",
       "      <td>0.082000</td>\n",
       "      <td>2.430000e+00</td>\n",
       "      <td>0.000000</td>\n",
       "      <td>0.000000</td>\n",
       "      <td>0.000000</td>\n",
       "      <td>0.000000</td>\n",
       "      <td>0.000000</td>\n",
       "      <td>0.000000</td>\n",
       "      <td>0.648000</td>\n",
       "    </tr>\n",
       "    <tr>\n",
       "      <th>25%</th>\n",
       "      <td>4.852000</td>\n",
       "      <td>0.043000</td>\n",
       "      <td>4.991000</td>\n",
       "      <td>4.706000</td>\n",
       "      <td>8.541000</td>\n",
       "      <td>0.750000</td>\n",
       "      <td>59.802000</td>\n",
       "      <td>0.718000</td>\n",
       "      <td>-0.126000</td>\n",
       "      <td>0.667000</td>\n",
       "      <td>2.430000e+00</td>\n",
       "      <td>0.666000</td>\n",
       "      <td>0.647000</td>\n",
       "      <td>0.357000</td>\n",
       "      <td>0.409000</td>\n",
       "      <td>0.105000</td>\n",
       "      <td>0.060000</td>\n",
       "      <td>2.138000</td>\n",
       "    </tr>\n",
       "    <tr>\n",
       "      <th>50%</th>\n",
       "      <td>5.534000</td>\n",
       "      <td>0.054000</td>\n",
       "      <td>5.625000</td>\n",
       "      <td>5.413000</td>\n",
       "      <td>9.569000</td>\n",
       "      <td>0.832000</td>\n",
       "      <td>66.603000</td>\n",
       "      <td>0.804000</td>\n",
       "      <td>-0.036000</td>\n",
       "      <td>0.781000</td>\n",
       "      <td>2.430000e+00</td>\n",
       "      <td>1.025000</td>\n",
       "      <td>0.832000</td>\n",
       "      <td>0.571000</td>\n",
       "      <td>0.514000</td>\n",
       "      <td>0.164000</td>\n",
       "      <td>0.101000</td>\n",
       "      <td>2.509000</td>\n",
       "    </tr>\n",
       "    <tr>\n",
       "      <th>75%</th>\n",
       "      <td>6.255000</td>\n",
       "      <td>0.070000</td>\n",
       "      <td>6.344000</td>\n",
       "      <td>6.128000</td>\n",
       "      <td>10.421000</td>\n",
       "      <td>0.905000</td>\n",
       "      <td>69.600000</td>\n",
       "      <td>0.877000</td>\n",
       "      <td>0.079000</td>\n",
       "      <td>0.845000</td>\n",
       "      <td>2.430000e+00</td>\n",
       "      <td>1.323000</td>\n",
       "      <td>0.996000</td>\n",
       "      <td>0.665000</td>\n",
       "      <td>0.603000</td>\n",
       "      <td>0.239000</td>\n",
       "      <td>0.174000</td>\n",
       "      <td>2.794000</td>\n",
       "    </tr>\n",
       "    <tr>\n",
       "      <th>max</th>\n",
       "      <td>7.842000</td>\n",
       "      <td>0.173000</td>\n",
       "      <td>7.904000</td>\n",
       "      <td>7.780000</td>\n",
       "      <td>11.647000</td>\n",
       "      <td>0.983000</td>\n",
       "      <td>76.953000</td>\n",
       "      <td>0.970000</td>\n",
       "      <td>0.542000</td>\n",
       "      <td>0.939000</td>\n",
       "      <td>2.430000e+00</td>\n",
       "      <td>1.751000</td>\n",
       "      <td>1.172000</td>\n",
       "      <td>0.897000</td>\n",
       "      <td>0.716000</td>\n",
       "      <td>0.541000</td>\n",
       "      <td>0.547000</td>\n",
       "      <td>3.482000</td>\n",
       "    </tr>\n",
       "  </tbody>\n",
       "</table>\n",
       "</div>"
      ],
      "text/plain": [
       "       Ladder score  Standard error of ladder score  upperwhisker  \\\n",
       "count    149.000000                      149.000000    149.000000   \n",
       "mean       5.532839                        0.058752      5.648007   \n",
       "std        1.073924                        0.022001      1.054330   \n",
       "min        2.523000                        0.026000      2.596000   \n",
       "25%        4.852000                        0.043000      4.991000   \n",
       "50%        5.534000                        0.054000      5.625000   \n",
       "75%        6.255000                        0.070000      6.344000   \n",
       "max        7.842000                        0.173000      7.904000   \n",
       "\n",
       "       lowerwhisker  Logged GDP per capita  Social support  \\\n",
       "count    149.000000             149.000000      149.000000   \n",
       "mean       5.417631               9.432208        0.814745   \n",
       "std        1.094879               1.158601        0.114889   \n",
       "min        2.449000               6.635000        0.463000   \n",
       "25%        4.706000               8.541000        0.750000   \n",
       "50%        5.413000               9.569000        0.832000   \n",
       "75%        6.128000              10.421000        0.905000   \n",
       "max        7.780000              11.647000        0.983000   \n",
       "\n",
       "       Healthy life expectancy  Freedom to make life choices  Generosity  \\\n",
       "count               149.000000                    149.000000  149.000000   \n",
       "mean                 64.992799                      0.791597   -0.015134   \n",
       "std                   6.762043                      0.113332    0.150657   \n",
       "min                  48.478000                      0.382000   -0.288000   \n",
       "25%                  59.802000                      0.718000   -0.126000   \n",
       "50%                  66.603000                      0.804000   -0.036000   \n",
       "75%                  69.600000                      0.877000    0.079000   \n",
       "max                  76.953000                      0.970000    0.542000   \n",
       "\n",
       "       Perceptions of corruption  Ladder score in Dystopia  \\\n",
       "count                 149.000000              1.490000e+02   \n",
       "mean                    0.727450              2.430000e+00   \n",
       "std                     0.179226              5.347044e-15   \n",
       "min                     0.082000              2.430000e+00   \n",
       "25%                     0.667000              2.430000e+00   \n",
       "50%                     0.781000              2.430000e+00   \n",
       "75%                     0.845000              2.430000e+00   \n",
       "max                     0.939000              2.430000e+00   \n",
       "\n",
       "       Explained by: Log GDP per capita  Explained by: Social support  \\\n",
       "count                        149.000000                    149.000000   \n",
       "mean                           0.977161                      0.793315   \n",
       "std                            0.404740                      0.258871   \n",
       "min                            0.000000                      0.000000   \n",
       "25%                            0.666000                      0.647000   \n",
       "50%                            1.025000                      0.832000   \n",
       "75%                            1.323000                      0.996000   \n",
       "max                            1.751000                      1.172000   \n",
       "\n",
       "       Explained by: Healthy life expectancy  \\\n",
       "count                             149.000000   \n",
       "mean                                0.520161   \n",
       "std                                 0.213019   \n",
       "min                                 0.000000   \n",
       "25%                                 0.357000   \n",
       "50%                                 0.571000   \n",
       "75%                                 0.665000   \n",
       "max                                 0.897000   \n",
       "\n",
       "       Explained by: Freedom to make life choices  Explained by: Generosity  \\\n",
       "count                                  149.000000                149.000000   \n",
       "mean                                     0.498711                  0.178047   \n",
       "std                                      0.137888                  0.098270   \n",
       "min                                      0.000000                  0.000000   \n",
       "25%                                      0.409000                  0.105000   \n",
       "50%                                      0.514000                  0.164000   \n",
       "75%                                      0.603000                  0.239000   \n",
       "max                                      0.716000                  0.541000   \n",
       "\n",
       "       Explained by: Perceptions of corruption  Dystopia + residual  \n",
       "count                               149.000000           149.000000  \n",
       "mean                                  0.135141             2.430329  \n",
       "std                                   0.114361             0.537645  \n",
       "min                                   0.000000             0.648000  \n",
       "25%                                   0.060000             2.138000  \n",
       "50%                                   0.101000             2.509000  \n",
       "75%                                   0.174000             2.794000  \n",
       "max                                   0.547000             3.482000  "
      ]
     },
     "execution_count": 590,
     "metadata": {},
     "output_type": "execute_result"
    }
   ],
   "source": [
    "data2021.describe()"
   ]
  },
  {
   "cell_type": "code",
   "execution_count": 592,
   "id": "73f71d63-b34e-43ff-a58b-aeab8ea8c23b",
   "metadata": {},
   "outputs": [
    {
     "data": {
      "text/html": [
       "<div>\n",
       "<style scoped>\n",
       "    .dataframe tbody tr th:only-of-type {\n",
       "        vertical-align: middle;\n",
       "    }\n",
       "\n",
       "    .dataframe tbody tr th {\n",
       "        vertical-align: top;\n",
       "    }\n",
       "\n",
       "    .dataframe thead th {\n",
       "        text-align: right;\n",
       "    }\n",
       "</style>\n",
       "<table border=\"1\" class=\"dataframe\">\n",
       "  <thead>\n",
       "    <tr style=\"text-align: right;\">\n",
       "      <th></th>\n",
       "      <th>ï»¿Country name</th>\n",
       "      <th>Regional indicator</th>\n",
       "    </tr>\n",
       "  </thead>\n",
       "  <tbody>\n",
       "    <tr>\n",
       "      <th>count</th>\n",
       "      <td>149</td>\n",
       "      <td>149</td>\n",
       "    </tr>\n",
       "    <tr>\n",
       "      <th>unique</th>\n",
       "      <td>149</td>\n",
       "      <td>10</td>\n",
       "    </tr>\n",
       "    <tr>\n",
       "      <th>top</th>\n",
       "      <td>Finland</td>\n",
       "      <td>Sub-Saharan Africa</td>\n",
       "    </tr>\n",
       "    <tr>\n",
       "      <th>freq</th>\n",
       "      <td>1</td>\n",
       "      <td>36</td>\n",
       "    </tr>\n",
       "  </tbody>\n",
       "</table>\n",
       "</div>"
      ],
      "text/plain": [
       "       ï»¿Country name  Regional indicator\n",
       "count              149                 149\n",
       "unique             149                  10\n",
       "top            Finland  Sub-Saharan Africa\n",
       "freq                 1                  36"
      ]
     },
     "execution_count": 592,
     "metadata": {},
     "output_type": "execute_result"
    }
   ],
   "source": [
    "data2021.describe(include=\"object\")"
   ]
  },
  {
   "cell_type": "code",
   "execution_count": 594,
   "id": "71ae3f18-1c74-4d63-9227-829169cc1ee8",
   "metadata": {},
   "outputs": [
    {
     "data": {
      "text/html": [
       "<div>\n",
       "<style scoped>\n",
       "    .dataframe tbody tr th:only-of-type {\n",
       "        vertical-align: middle;\n",
       "    }\n",
       "\n",
       "    .dataframe tbody tr th {\n",
       "        vertical-align: top;\n",
       "    }\n",
       "\n",
       "    .dataframe thead th {\n",
       "        text-align: right;\n",
       "    }\n",
       "</style>\n",
       "<table border=\"1\" class=\"dataframe\">\n",
       "  <thead>\n",
       "    <tr style=\"text-align: right;\">\n",
       "      <th></th>\n",
       "      <th>RANK</th>\n",
       "    </tr>\n",
       "  </thead>\n",
       "  <tbody>\n",
       "    <tr>\n",
       "      <th>count</th>\n",
       "      <td>147.000000</td>\n",
       "    </tr>\n",
       "    <tr>\n",
       "      <th>mean</th>\n",
       "      <td>74.000000</td>\n",
       "    </tr>\n",
       "    <tr>\n",
       "      <th>std</th>\n",
       "      <td>42.579338</td>\n",
       "    </tr>\n",
       "    <tr>\n",
       "      <th>min</th>\n",
       "      <td>1.000000</td>\n",
       "    </tr>\n",
       "    <tr>\n",
       "      <th>25%</th>\n",
       "      <td>37.500000</td>\n",
       "    </tr>\n",
       "    <tr>\n",
       "      <th>50%</th>\n",
       "      <td>74.000000</td>\n",
       "    </tr>\n",
       "    <tr>\n",
       "      <th>75%</th>\n",
       "      <td>110.500000</td>\n",
       "    </tr>\n",
       "    <tr>\n",
       "      <th>max</th>\n",
       "      <td>147.000000</td>\n",
       "    </tr>\n",
       "  </tbody>\n",
       "</table>\n",
       "</div>"
      ],
      "text/plain": [
       "             RANK\n",
       "count  147.000000\n",
       "mean    74.000000\n",
       "std     42.579338\n",
       "min      1.000000\n",
       "25%     37.500000\n",
       "50%     74.000000\n",
       "75%    110.500000\n",
       "max    147.000000"
      ]
     },
     "execution_count": 594,
     "metadata": {},
     "output_type": "execute_result"
    }
   ],
   "source": [
    "data2022.describe()"
   ]
  },
  {
   "cell_type": "code",
   "execution_count": 596,
   "id": "dd06173d-f74c-4239-916e-c8c84d3bfd8e",
   "metadata": {},
   "outputs": [
    {
     "data": {
      "text/html": [
       "<div>\n",
       "<style scoped>\n",
       "    .dataframe tbody tr th:only-of-type {\n",
       "        vertical-align: middle;\n",
       "    }\n",
       "\n",
       "    .dataframe tbody tr th {\n",
       "        vertical-align: top;\n",
       "    }\n",
       "\n",
       "    .dataframe thead th {\n",
       "        text-align: right;\n",
       "    }\n",
       "</style>\n",
       "<table border=\"1\" class=\"dataframe\">\n",
       "  <thead>\n",
       "    <tr style=\"text-align: right;\">\n",
       "      <th></th>\n",
       "      <th>Country</th>\n",
       "      <th>Happiness score</th>\n",
       "      <th>Whisker-high</th>\n",
       "      <th>Whisker-low</th>\n",
       "      <th>Dystopia (1.83) + residual</th>\n",
       "      <th>Explained by: GDP per capita</th>\n",
       "      <th>Explained by: Social support</th>\n",
       "      <th>Explained by: Healthy life expectancy</th>\n",
       "      <th>Explained by: Freedom to make life choices</th>\n",
       "      <th>Explained by: Generosity</th>\n",
       "      <th>Explained by: Perceptions of corruption</th>\n",
       "    </tr>\n",
       "  </thead>\n",
       "  <tbody>\n",
       "    <tr>\n",
       "      <th>count</th>\n",
       "      <td>147</td>\n",
       "      <td>146</td>\n",
       "      <td>146</td>\n",
       "      <td>146</td>\n",
       "      <td>146</td>\n",
       "      <td>146</td>\n",
       "      <td>146</td>\n",
       "      <td>146</td>\n",
       "      <td>146</td>\n",
       "      <td>146</td>\n",
       "      <td>146</td>\n",
       "    </tr>\n",
       "    <tr>\n",
       "      <th>unique</th>\n",
       "      <td>147</td>\n",
       "      <td>141</td>\n",
       "      <td>144</td>\n",
       "      <td>141</td>\n",
       "      <td>138</td>\n",
       "      <td>141</td>\n",
       "      <td>133</td>\n",
       "      <td>134</td>\n",
       "      <td>128</td>\n",
       "      <td>116</td>\n",
       "      <td>116</td>\n",
       "    </tr>\n",
       "    <tr>\n",
       "      <th>top</th>\n",
       "      <td>Finland</td>\n",
       "      <td>4,516</td>\n",
       "      <td>6,535</td>\n",
       "      <td>5,659</td>\n",
       "      <td>1,895</td>\n",
       "      <td>1,815</td>\n",
       "      <td>0,865</td>\n",
       "      <td>0,803</td>\n",
       "      <td>0,448</td>\n",
       "      <td>0,089</td>\n",
       "      <td>0,077</td>\n",
       "    </tr>\n",
       "    <tr>\n",
       "      <th>freq</th>\n",
       "      <td>1</td>\n",
       "      <td>2</td>\n",
       "      <td>2</td>\n",
       "      <td>2</td>\n",
       "      <td>2</td>\n",
       "      <td>3</td>\n",
       "      <td>3</td>\n",
       "      <td>2</td>\n",
       "      <td>3</td>\n",
       "      <td>4</td>\n",
       "      <td>4</td>\n",
       "    </tr>\n",
       "  </tbody>\n",
       "</table>\n",
       "</div>"
      ],
      "text/plain": [
       "        Country Happiness score Whisker-high Whisker-low  \\\n",
       "count       147             146          146         146   \n",
       "unique      147             141          144         141   \n",
       "top     Finland           4,516        6,535       5,659   \n",
       "freq          1               2            2           2   \n",
       "\n",
       "       Dystopia (1.83) + residual Explained by: GDP per capita  \\\n",
       "count                         146                          146   \n",
       "unique                        138                          141   \n",
       "top                         1,895                        1,815   \n",
       "freq                            2                            3   \n",
       "\n",
       "       Explained by: Social support Explained by: Healthy life expectancy  \\\n",
       "count                           146                                   146   \n",
       "unique                          133                                   134   \n",
       "top                           0,865                                 0,803   \n",
       "freq                              3                                     2   \n",
       "\n",
       "       Explained by: Freedom to make life choices Explained by: Generosity  \\\n",
       "count                                         146                      146   \n",
       "unique                                        128                      116   \n",
       "top                                         0,448                    0,089   \n",
       "freq                                            3                        4   \n",
       "\n",
       "       Explained by: Perceptions of corruption  \n",
       "count                                      146  \n",
       "unique                                     116  \n",
       "top                                      0,077  \n",
       "freq                                         4  "
      ]
     },
     "execution_count": 596,
     "metadata": {},
     "output_type": "execute_result"
    }
   ],
   "source": [
    "data2022.describe(include=\"object\")"
   ]
  },
  {
   "cell_type": "code",
   "execution_count": 598,
   "id": "4a77357b-eef8-4d50-993b-a58aecc10722",
   "metadata": {},
   "outputs": [
    {
     "data": {
      "text/plain": [
       "ï»¿Country name                               149\n",
       "Regional indicator                             10\n",
       "Ladder score                                  147\n",
       "Standard error of ladder score                 65\n",
       "upperwhisker                                  146\n",
       "lowerwhisker                                  143\n",
       "Logged GDP per capita                         148\n",
       "Social support                                119\n",
       "Healthy life expectancy                       135\n",
       "Freedom to make life choices                  126\n",
       "Generosity                                    130\n",
       "Perceptions of corruption                     130\n",
       "Ladder score in Dystopia                        1\n",
       "Explained by: Log GDP per capita              138\n",
       "Explained by: Social support                  135\n",
       "Explained by: Healthy life expectancy         119\n",
       "Explained by: Freedom to make life choices    130\n",
       "Explained by: Generosity                      119\n",
       "Explained by: Perceptions of corruption       117\n",
       "Dystopia + residual                           142\n",
       "dtype: int64"
      ]
     },
     "execution_count": 598,
     "metadata": {},
     "output_type": "execute_result"
    }
   ],
   "source": [
    "data2021.nunique()"
   ]
  },
  {
   "cell_type": "code",
   "execution_count": 600,
   "id": "b781272f-333a-4769-b18e-5fba2126c534",
   "metadata": {},
   "outputs": [
    {
     "data": {
      "text/plain": [
       "RANK                                          147\n",
       "Country                                       147\n",
       "Happiness score                               141\n",
       "Whisker-high                                  144\n",
       "Whisker-low                                   141\n",
       "Dystopia (1.83) + residual                    138\n",
       "Explained by: GDP per capita                  141\n",
       "Explained by: Social support                  133\n",
       "Explained by: Healthy life expectancy         134\n",
       "Explained by: Freedom to make life choices    128\n",
       "Explained by: Generosity                      116\n",
       "Explained by: Perceptions of corruption       116\n",
       "dtype: int64"
      ]
     },
     "execution_count": 600,
     "metadata": {},
     "output_type": "execute_result"
    }
   ],
   "source": [
    "data2022.nunique()"
   ]
  },
  {
   "cell_type": "code",
   "execution_count": 602,
   "id": "084b2763-8c3f-49f4-a76e-f2f62aa31b9b",
   "metadata": {},
   "outputs": [
    {
     "data": {
      "text/plain": [
       "ï»¿Country name                               False\n",
       "Regional indicator                            False\n",
       "Ladder score                                  False\n",
       "Standard error of ladder score                False\n",
       "upperwhisker                                  False\n",
       "lowerwhisker                                  False\n",
       "Logged GDP per capita                         False\n",
       "Social support                                False\n",
       "Healthy life expectancy                       False\n",
       "Freedom to make life choices                  False\n",
       "Generosity                                    False\n",
       "Perceptions of corruption                     False\n",
       "Ladder score in Dystopia                      False\n",
       "Explained by: Log GDP per capita              False\n",
       "Explained by: Social support                  False\n",
       "Explained by: Healthy life expectancy         False\n",
       "Explained by: Freedom to make life choices    False\n",
       "Explained by: Generosity                      False\n",
       "Explained by: Perceptions of corruption       False\n",
       "Dystopia + residual                           False\n",
       "dtype: bool"
      ]
     },
     "execution_count": 602,
     "metadata": {},
     "output_type": "execute_result"
    }
   ],
   "source": [
    "data2021.isna().any()\n",
    "# we don´t have missing values"
   ]
  },
  {
   "cell_type": "code",
   "execution_count": 604,
   "id": "e51b2fba-c29b-4d85-a3b7-6c3e0e6139ab",
   "metadata": {},
   "outputs": [
    {
     "data": {
      "text/plain": [
       "RANK                                          False\n",
       "Country                                       False\n",
       "Happiness score                                True\n",
       "Whisker-high                                   True\n",
       "Whisker-low                                    True\n",
       "Dystopia (1.83) + residual                     True\n",
       "Explained by: GDP per capita                   True\n",
       "Explained by: Social support                   True\n",
       "Explained by: Healthy life expectancy          True\n",
       "Explained by: Freedom to make life choices     True\n",
       "Explained by: Generosity                       True\n",
       "Explained by: Perceptions of corruption        True\n",
       "dtype: bool"
      ]
     },
     "execution_count": 604,
     "metadata": {},
     "output_type": "execute_result"
    }
   ],
   "source": [
    "data2022.isna().any()\n",
    "# We have missing values in 10 columns "
   ]
  },
  {
   "cell_type": "code",
   "execution_count": 606,
   "id": "b8d0c778-6307-4e8e-94e2-e5f8ba653a2c",
   "metadata": {},
   "outputs": [
    {
     "data": {
      "text/plain": [
       "RANK                                          0\n",
       "Country                                       0\n",
       "Happiness score                               1\n",
       "Whisker-high                                  1\n",
       "Whisker-low                                   1\n",
       "Dystopia (1.83) + residual                    1\n",
       "Explained by: GDP per capita                  1\n",
       "Explained by: Social support                  1\n",
       "Explained by: Healthy life expectancy         1\n",
       "Explained by: Freedom to make life choices    1\n",
       "Explained by: Generosity                      1\n",
       "Explained by: Perceptions of corruption       1\n",
       "dtype: int64"
      ]
     },
     "execution_count": 606,
     "metadata": {},
     "output_type": "execute_result"
    }
   ],
   "source": [
    "data2022.isna().sum(axis=0)\n",
    "# We have only 1 missing value in 10 columns "
   ]
  },
  {
   "cell_type": "code",
   "execution_count": 608,
   "id": "ec8555a9-9123-41f5-82b3-2d9b40dc12c1",
   "metadata": {},
   "outputs": [
    {
     "data": {
      "text/plain": [
       "Index(['ï»¿Country name', 'Regional indicator', 'Ladder score',\n",
       "       'Standard error of ladder score', 'upperwhisker', 'lowerwhisker',\n",
       "       'Logged GDP per capita', 'Social support', 'Healthy life expectancy',\n",
       "       'Freedom to make life choices', 'Generosity',\n",
       "       'Perceptions of corruption', 'Ladder score in Dystopia',\n",
       "       'Explained by: Log GDP per capita', 'Explained by: Social support',\n",
       "       'Explained by: Healthy life expectancy',\n",
       "       'Explained by: Freedom to make life choices',\n",
       "       'Explained by: Generosity', 'Explained by: Perceptions of corruption',\n",
       "       'Dystopia + residual'],\n",
       "      dtype='object')"
      ]
     },
     "execution_count": 608,
     "metadata": {},
     "output_type": "execute_result"
    }
   ],
   "source": [
    "data2021.columns"
   ]
  },
  {
   "cell_type": "code",
   "execution_count": 610,
   "id": "c43bb870-1e91-4629-8c73-25fbca65d21a",
   "metadata": {},
   "outputs": [],
   "source": [
    "data2021.columns= [\n",
    "    \"country\", \"rank\", \"happiness\", \"std\", \"high\", \"low\", \"GDP\", \"social_support\", \n",
    "    \"healthy\", \"freedom\", \"generosity\", \"corruption\", \"dystopia\", \"exp_GDP\", \"exp_social\",\n",
    "    \"exp_healthy\", \"exp_freedom\", \"exp_generosity\", \"exp_corruption\", \"dystopia_residual\"\n",
    "]"
   ]
  },
  {
   "cell_type": "code",
   "execution_count": 612,
   "id": "394c56a1-a947-4270-ab7e-2e7ee70d0a52",
   "metadata": {},
   "outputs": [
    {
     "data": {
      "text/plain": [
       "Index(['country', 'rank', 'happiness', 'std', 'high', 'low', 'GDP',\n",
       "       'social_support', 'healthy', 'freedom', 'generosity', 'corruption',\n",
       "       'dystopia', 'exp_GDP', 'exp_social', 'exp_healthy', 'exp_freedom',\n",
       "       'exp_generosity', 'exp_corruption', 'dystopia_residual'],\n",
       "      dtype='object')"
      ]
     },
     "execution_count": 612,
     "metadata": {},
     "output_type": "execute_result"
    }
   ],
   "source": [
    "data2021.columns"
   ]
  },
  {
   "cell_type": "code",
   "execution_count": 614,
   "id": "26cbb5f2-64f8-49dc-b1dc-f9652daacf81",
   "metadata": {},
   "outputs": [
    {
     "data": {
      "text/plain": [
       "Index(['RANK', 'Country', 'Happiness score', 'Whisker-high', 'Whisker-low',\n",
       "       'Dystopia (1.83) + residual', 'Explained by: GDP per capita',\n",
       "       'Explained by: Social support', 'Explained by: Healthy life expectancy',\n",
       "       'Explained by: Freedom to make life choices',\n",
       "       'Explained by: Generosity', 'Explained by: Perceptions of corruption'],\n",
       "      dtype='object')"
      ]
     },
     "execution_count": 614,
     "metadata": {},
     "output_type": "execute_result"
    }
   ],
   "source": [
    "data2022.columns"
   ]
  },
  {
   "cell_type": "code",
   "execution_count": 616,
   "id": "babe0425-0f0f-42f1-953c-2352fdaa1f60",
   "metadata": {},
   "outputs": [],
   "source": [
    "data2022.columns= [\n",
    "    \"rank\",\"country\", \"happiness\", \"high\", \"low\", \"dystopia_residual\", \"exp_GDP\", \"exp_social\",\n",
    "    \"exp_healthy\", \"exp_freedom\", \"exp_generosity\", \"exp_corruption\", \n",
    "]"
   ]
  },
  {
   "cell_type": "code",
   "execution_count": 618,
   "id": "7b6d7312-410f-4709-b911-927d9a1e3934",
   "metadata": {},
   "outputs": [
    {
     "data": {
      "text/plain": [
       "Index(['rank', 'country', 'happiness', 'high', 'low', 'dystopia_residual',\n",
       "       'exp_GDP', 'exp_social', 'exp_healthy', 'exp_freedom', 'exp_generosity',\n",
       "       'exp_corruption'],\n",
       "      dtype='object')"
      ]
     },
     "execution_count": 618,
     "metadata": {},
     "output_type": "execute_result"
    }
   ],
   "source": [
    "data2022.columns"
   ]
  },
  {
   "cell_type": "code",
   "execution_count": 620,
   "id": "d4a2316f-c82f-4792-af07-b1e7fd4e9039",
   "metadata": {},
   "outputs": [
    {
     "data": {
      "text/plain": [
       "Index(['country', 'rank', 'happiness', 'std', 'high', 'low', 'GDP',\n",
       "       'social_support', 'healthy', 'freedom', 'generosity', 'corruption',\n",
       "       'dystopia', 'exp_GDP', 'exp_social', 'exp_healthy', 'exp_freedom',\n",
       "       'exp_generosity', 'exp_corruption', 'dystopia_residual'],\n",
       "      dtype='object')"
      ]
     },
     "execution_count": 620,
     "metadata": {},
     "output_type": "execute_result"
    }
   ],
   "source": [
    "data2021.columns"
   ]
  },
  {
   "cell_type": "code",
   "execution_count": 622,
   "id": "7c158822-d601-4806-b947-6cb5f80aac9f",
   "metadata": {},
   "outputs": [
    {
     "data": {
      "text/plain": [
       "Index(['rank', 'country', 'happiness', 'std', 'high', 'low', 'GDP',\n",
       "       'social_support', 'healthy', 'freedom', 'generosity', 'corruption',\n",
       "       'dystopia', 'exp_GDP', 'exp_social', 'exp_healthy', 'exp_freedom',\n",
       "       'exp_generosity', 'exp_corruption', 'dystopia_residual'],\n",
       "      dtype='object')"
      ]
     },
     "execution_count": 622,
     "metadata": {},
     "output_type": "execute_result"
    }
   ],
   "source": [
    "# Change the second column to be the first\n",
    "columns = data2021.columns.tolist()\n",
    "columns = [columns[1]] + [columns[0]] + columns[2:]\n",
    "\n",
    "# Reorder DataFrame with new column order\n",
    "data2021 = data2021[columns]\n",
    "data2021.columns"
   ]
  },
  {
   "cell_type": "code",
   "execution_count": 624,
   "id": "395a1351-31d4-4335-9d01-82f0a2ae6aa0",
   "metadata": {},
   "outputs": [],
   "source": [
    "data2021= data2021[[\"rank\", \"country\", \"happiness\", \"exp_GDP\", \"exp_social\", \"exp_healthy\", \"exp_freedom\",\n",
    "                   \"exp_generosity\", \"exp_corruption\", \"dystopia_residual\", \"std\", \"high\", \"low\", \"GDP\", \"social_support\",\n",
    "                   \"healthy\", \"freedom\", \"generosity\", \"corruption\", \"dystopia\",]]"
   ]
  },
  {
   "cell_type": "code",
   "execution_count": 626,
   "id": "ab7b0e34-4abb-48b6-a718-5b2341ca5bbd",
   "metadata": {},
   "outputs": [
    {
     "data": {
      "text/plain": [
       "Index(['rank', 'country', 'happiness', 'exp_GDP', 'exp_social', 'exp_healthy',\n",
       "       'exp_freedom', 'exp_generosity', 'exp_corruption', 'dystopia_residual',\n",
       "       'std', 'high', 'low', 'GDP', 'social_support', 'healthy', 'freedom',\n",
       "       'generosity', 'corruption', 'dystopia'],\n",
       "      dtype='object')"
      ]
     },
     "execution_count": 626,
     "metadata": {},
     "output_type": "execute_result"
    }
   ],
   "source": [
    "data2021.columns"
   ]
  },
  {
   "cell_type": "code",
   "execution_count": 628,
   "id": "c3089b7f-ad94-46b6-9462-f9fb60cb9a3e",
   "metadata": {},
   "outputs": [
    {
     "data": {
      "text/plain": [
       "Index(['rank', 'country', 'happiness', 'high', 'low', 'dystopia_residual',\n",
       "       'exp_GDP', 'exp_social', 'exp_healthy', 'exp_freedom', 'exp_generosity',\n",
       "       'exp_corruption'],\n",
       "      dtype='object')"
      ]
     },
     "execution_count": 628,
     "metadata": {},
     "output_type": "execute_result"
    }
   ],
   "source": [
    "data2022.columns"
   ]
  },
  {
   "cell_type": "code",
   "execution_count": 630,
   "id": "d20a365f-55da-4eb7-ba64-14e6e5a3aebd",
   "metadata": {},
   "outputs": [],
   "source": [
    "data2022= data2022[['rank', 'country', 'happiness', 'exp_GDP', 'exp_social', 'exp_healthy', 'exp_freedom', 'exp_generosity'\n",
    "                    ,'exp_corruption', 'dystopia_residual','high', 'low',  \n",
    "                   ]]"
   ]
  },
  {
   "cell_type": "code",
   "execution_count": 632,
   "id": "0d528c31-212d-4b10-a577-dc258b7cbf3e",
   "metadata": {},
   "outputs": [
    {
     "data": {
      "text/plain": [
       "Index(['rank', 'country', 'happiness', 'exp_GDP', 'exp_social', 'exp_healthy',\n",
       "       'exp_freedom', 'exp_generosity', 'exp_corruption', 'dystopia_residual',\n",
       "       'high', 'low'],\n",
       "      dtype='object')"
      ]
     },
     "execution_count": 632,
     "metadata": {},
     "output_type": "execute_result"
    }
   ],
   "source": [
    "data2022.columns"
   ]
  },
  {
   "cell_type": "code",
   "execution_count": 634,
   "id": "43e16045-6391-4d8c-972f-0f0e41e4232e",
   "metadata": {},
   "outputs": [],
   "source": [
    "data2021 = data2021.drop(columns=['std', 'high', 'low', 'GDP', 'social_support', 'healthy', 'freedom',\n",
    "       'generosity', 'corruption', 'dystopia'])"
   ]
  },
  {
   "cell_type": "code",
   "execution_count": 636,
   "id": "d83b92de-7cc0-4a2e-8bad-11a59864340a",
   "metadata": {},
   "outputs": [
    {
     "data": {
      "text/plain": [
       "Index(['rank', 'country', 'happiness', 'exp_GDP', 'exp_social', 'exp_healthy',\n",
       "       'exp_freedom', 'exp_generosity', 'exp_corruption', 'dystopia_residual'],\n",
       "      dtype='object')"
      ]
     },
     "execution_count": 636,
     "metadata": {},
     "output_type": "execute_result"
    }
   ],
   "source": [
    "data2021.columns"
   ]
  },
  {
   "cell_type": "code",
   "execution_count": 638,
   "id": "24e199e1-ada1-4a98-b18d-ea909c3c13a4",
   "metadata": {},
   "outputs": [
    {
     "data": {
      "text/plain": [
       "Index(['rank', 'country', 'happiness', 'exp_GDP', 'exp_social', 'exp_healthy',\n",
       "       'exp_freedom', 'exp_generosity', 'exp_corruption', 'dystopia_residual'],\n",
       "      dtype='object')"
      ]
     },
     "execution_count": 638,
     "metadata": {},
     "output_type": "execute_result"
    }
   ],
   "source": [
    "data2022 = data2022.drop(columns=['high', 'low'])\n",
    "data2022.columns"
   ]
  },
  {
   "cell_type": "code",
   "execution_count": 640,
   "id": "8c9d96aa-91c6-4154-9cdf-9d39ef843e6b",
   "metadata": {},
   "outputs": [
    {
     "data": {
      "text/plain": [
       "array(['Finland', 'Denmark', 'Switzerland', 'Iceland', 'Netherlands',\n",
       "       'Norway', 'Sweden', 'Luxembourg', 'New Zealand', 'Austria',\n",
       "       'Australia', 'Israel', 'Germany', 'Canada', 'Ireland',\n",
       "       'Costa Rica', 'United Kingdom', 'Czech Republic', 'United States',\n",
       "       'Belgium', 'France', 'Bahrain', 'Malta',\n",
       "       'Taiwan Province of China', 'United Arab Emirates', 'Saudi Arabia',\n",
       "       'Spain', 'Italy', 'Slovenia', 'Guatemala', 'Uruguay', 'Singapore',\n",
       "       'Kosovo', 'Slovakia', 'Brazil', 'Mexico', 'Jamaica', 'Lithuania',\n",
       "       'Cyprus', 'Estonia', 'Panama', 'Uzbekistan', 'Chile', 'Poland',\n",
       "       'Kazakhstan', 'Romania', 'Kuwait', 'Serbia', 'El Salvador',\n",
       "       'Mauritius', 'Latvia', 'Colombia', 'Hungary', 'Thailand',\n",
       "       'Nicaragua', 'Japan', 'Argentina', 'Portugal', 'Honduras',\n",
       "       'Croatia', 'Philippines', 'South Korea', 'Peru',\n",
       "       'Bosnia and Herzegovina', 'Moldova', 'Ecuador', 'Kyrgyzstan',\n",
       "       'Greece', 'Bolivia', 'Mongolia', 'Paraguay', 'Montenegro',\n",
       "       'Dominican Republic', 'North Cyprus', 'Belarus', 'Russia',\n",
       "       'Hong Kong S.A.R. of China', 'Tajikistan', 'Vietnam', 'Libya',\n",
       "       'Malaysia', 'Indonesia', 'Congo (Brazzaville)', 'China',\n",
       "       'Ivory Coast', 'Armenia', 'Nepal', 'Bulgaria', 'Maldives',\n",
       "       'Azerbaijan', 'Cameroon', 'Senegal', 'Albania', 'North Macedonia',\n",
       "       'Ghana', 'Niger', 'Turkmenistan', 'Gambia', 'Benin', 'Laos',\n",
       "       'Bangladesh', 'Guinea', 'South Africa', 'Turkey', 'Pakistan',\n",
       "       'Morocco', 'Venezuela', 'Georgia', 'Algeria', 'Ukraine', 'Iraq',\n",
       "       'Gabon', 'Burkina Faso', 'Cambodia', 'Mozambique', 'Nigeria',\n",
       "       'Mali', 'Iran', 'Uganda', 'Liberia', 'Kenya', 'Tunisia', 'Lebanon',\n",
       "       'Namibia', 'Palestinian Territories', 'Myanmar', 'Jordan', 'Chad',\n",
       "       'Sri Lanka', 'Swaziland', 'Comoros', 'Egypt', 'Ethiopia',\n",
       "       'Mauritania', 'Madagascar', 'Togo', 'Zambia', 'Sierra Leone',\n",
       "       'India', 'Burundi', 'Yemen', 'Tanzania', 'Haiti', 'Malawi',\n",
       "       'Lesotho', 'Botswana', 'Rwanda', 'Zimbabwe', 'Afghanistan'],\n",
       "      dtype=object)"
      ]
     },
     "execution_count": 640,
     "metadata": {},
     "output_type": "execute_result"
    }
   ],
   "source": [
    "data2021.country.unique()"
   ]
  },
  {
   "cell_type": "code",
   "execution_count": 642,
   "id": "4f7a1933-0365-4cf7-9b17-c21abe7cc681",
   "metadata": {},
   "outputs": [
    {
     "data": {
      "text/plain": [
       "array(['Finland', 'Denmark', 'Iceland', 'Switzerland', 'Netherlands',\n",
       "       'Luxembourg*', 'Sweden', 'Norway', 'Israel', 'New Zealand',\n",
       "       'Austria', 'Australia', 'Ireland', 'Germany', 'Canada',\n",
       "       'United States', 'United Kingdom', 'Czechia', 'Belgium', 'France',\n",
       "       'Bahrain', 'Slovenia', 'Costa Rica', 'United Arab Emirates',\n",
       "       'Saudi Arabia', 'Taiwan Province of China', 'Singapore', 'Romania',\n",
       "       'Spain', 'Uruguay', 'Italy', 'Kosovo', 'Malta', 'Lithuania',\n",
       "       'Slovakia', 'Estonia', 'Panama', 'Brazil', 'Guatemala*',\n",
       "       'Kazakhstan', 'Cyprus', 'Latvia', 'Serbia', 'Chile', 'Nicaragua',\n",
       "       'Mexico', 'Croatia', 'Poland', 'El Salvador', 'Kuwait*', 'Hungary',\n",
       "       'Mauritius', 'Uzbekistan', 'Japan', 'Honduras', 'Portugal',\n",
       "       'Argentina', 'Greece', 'South Korea', 'Philippines', 'Thailand',\n",
       "       'Moldova', 'Jamaica', 'Kyrgyzstan', 'Belarus*', 'Colombia',\n",
       "       'Bosnia and Herzegovina', 'Mongolia', 'Dominican Republic',\n",
       "       'Malaysia', 'Bolivia', 'China', 'Paraguay', 'Peru', 'Montenegro',\n",
       "       'Ecuador', 'Vietnam', 'Turkmenistan*', 'North Cyprus*', 'Russia',\n",
       "       'Hong Kong S.A.R. of China', 'Armenia', 'Tajikistan', 'Nepal',\n",
       "       'Bulgaria', 'Libya*', 'Indonesia', 'Ivory Coast',\n",
       "       'North Macedonia', 'Albania', 'South Africa', 'Azerbaijan*',\n",
       "       'Gambia*', 'Bangladesh', 'Laos', 'Algeria', 'Liberia*', 'Ukraine',\n",
       "       'Congo', 'Morocco', 'Mozambique', 'Cameroon', 'Senegal', 'Niger*',\n",
       "       'Georgia', 'Gabon', 'Iraq', 'Venezuela', 'Guinea', 'Iran', 'Ghana',\n",
       "       'Turkey', 'Burkina Faso', 'Cambodia', 'Benin', 'Comoros*',\n",
       "       'Uganda', 'Nigeria', 'Kenya', 'Tunisia', 'Pakistan',\n",
       "       'Palestinian Territories*', 'Mali', 'Namibia',\n",
       "       'Eswatini, Kingdom of*', 'Myanmar', 'Sri Lanka', 'Madagascar*',\n",
       "       'Egypt', 'Chad*', 'Ethiopia', 'Yemen*', 'Mauritania*', 'Jordan',\n",
       "       'Togo', 'India', 'Zambia', 'Malawi', 'Tanzania', 'Sierra Leone',\n",
       "       'Lesotho*', 'Botswana*', 'Rwanda*', 'Zimbabwe', 'Lebanon',\n",
       "       'Afghanistan', 'xx'], dtype=object)"
      ]
     },
     "execution_count": 642,
     "metadata": {},
     "output_type": "execute_result"
    }
   ],
   "source": [
    "data2022.country.unique()"
   ]
  },
  {
   "cell_type": "code",
   "execution_count": 644,
   "id": "92cf6362-70fe-4a45-8c0b-fb4db751be1f",
   "metadata": {},
   "outputs": [],
   "source": [
    "data2022['country'] = data2022['country'].str.replace('*', '', regex=False)"
   ]
  },
  {
   "cell_type": "code",
   "execution_count": 646,
   "id": "846a7c9f-7f5e-40f2-89d4-e8d96a60de89",
   "metadata": {},
   "outputs": [
    {
     "data": {
      "text/plain": [
       "array(['Finland', 'Denmark', 'Iceland', 'Switzerland', 'Netherlands',\n",
       "       'Luxembourg', 'Sweden', 'Norway', 'Israel', 'New Zealand',\n",
       "       'Austria', 'Australia', 'Ireland', 'Germany', 'Canada',\n",
       "       'United States', 'United Kingdom', 'Czechia', 'Belgium', 'France',\n",
       "       'Bahrain', 'Slovenia', 'Costa Rica', 'United Arab Emirates',\n",
       "       'Saudi Arabia', 'Taiwan Province of China', 'Singapore', 'Romania',\n",
       "       'Spain', 'Uruguay', 'Italy', 'Kosovo', 'Malta', 'Lithuania',\n",
       "       'Slovakia', 'Estonia', 'Panama', 'Brazil', 'Guatemala',\n",
       "       'Kazakhstan', 'Cyprus', 'Latvia', 'Serbia', 'Chile', 'Nicaragua',\n",
       "       'Mexico', 'Croatia', 'Poland', 'El Salvador', 'Kuwait', 'Hungary',\n",
       "       'Mauritius', 'Uzbekistan', 'Japan', 'Honduras', 'Portugal',\n",
       "       'Argentina', 'Greece', 'South Korea', 'Philippines', 'Thailand',\n",
       "       'Moldova', 'Jamaica', 'Kyrgyzstan', 'Belarus', 'Colombia',\n",
       "       'Bosnia and Herzegovina', 'Mongolia', 'Dominican Republic',\n",
       "       'Malaysia', 'Bolivia', 'China', 'Paraguay', 'Peru', 'Montenegro',\n",
       "       'Ecuador', 'Vietnam', 'Turkmenistan', 'North Cyprus', 'Russia',\n",
       "       'Hong Kong S.A.R. of China', 'Armenia', 'Tajikistan', 'Nepal',\n",
       "       'Bulgaria', 'Libya', 'Indonesia', 'Ivory Coast', 'North Macedonia',\n",
       "       'Albania', 'South Africa', 'Azerbaijan', 'Gambia', 'Bangladesh',\n",
       "       'Laos', 'Algeria', 'Liberia', 'Ukraine', 'Congo', 'Morocco',\n",
       "       'Mozambique', 'Cameroon', 'Senegal', 'Niger', 'Georgia', 'Gabon',\n",
       "       'Iraq', 'Venezuela', 'Guinea', 'Iran', 'Ghana', 'Turkey',\n",
       "       'Burkina Faso', 'Cambodia', 'Benin', 'Comoros', 'Uganda',\n",
       "       'Nigeria', 'Kenya', 'Tunisia', 'Pakistan',\n",
       "       'Palestinian Territories', 'Mali', 'Namibia',\n",
       "       'Eswatini, Kingdom of', 'Myanmar', 'Sri Lanka', 'Madagascar',\n",
       "       'Egypt', 'Chad', 'Ethiopia', 'Yemen', 'Mauritania', 'Jordan',\n",
       "       'Togo', 'India', 'Zambia', 'Malawi', 'Tanzania', 'Sierra Leone',\n",
       "       'Lesotho', 'Botswana', 'Rwanda', 'Zimbabwe', 'Lebanon',\n",
       "       'Afghanistan', 'xx'], dtype=object)"
      ]
     },
     "execution_count": 646,
     "metadata": {},
     "output_type": "execute_result"
    }
   ],
   "source": [
    "data2022.country.unique()"
   ]
  },
  {
   "cell_type": "code",
   "execution_count": 648,
   "id": "0ca8246b-f083-4330-9b9f-a35760d8af28",
   "metadata": {},
   "outputs": [
    {
     "data": {
      "text/html": [
       "<div>\n",
       "<style scoped>\n",
       "    .dataframe tbody tr th:only-of-type {\n",
       "        vertical-align: middle;\n",
       "    }\n",
       "\n",
       "    .dataframe tbody tr th {\n",
       "        vertical-align: top;\n",
       "    }\n",
       "\n",
       "    .dataframe thead th {\n",
       "        text-align: right;\n",
       "    }\n",
       "</style>\n",
       "<table border=\"1\" class=\"dataframe\">\n",
       "  <thead>\n",
       "    <tr style=\"text-align: right;\">\n",
       "      <th></th>\n",
       "      <th>rank</th>\n",
       "      <th>country</th>\n",
       "      <th>happiness</th>\n",
       "      <th>exp_GDP</th>\n",
       "      <th>exp_social</th>\n",
       "      <th>exp_healthy</th>\n",
       "      <th>exp_freedom</th>\n",
       "      <th>exp_generosity</th>\n",
       "      <th>exp_corruption</th>\n",
       "      <th>dystopia_residual</th>\n",
       "    </tr>\n",
       "  </thead>\n",
       "  <tbody>\n",
       "    <tr>\n",
       "      <th>137</th>\n",
       "      <td>138</td>\n",
       "      <td>Malawi</td>\n",
       "      <td>3,750</td>\n",
       "      <td>0,648</td>\n",
       "      <td>0,279</td>\n",
       "      <td>0,388</td>\n",
       "      <td>0,477</td>\n",
       "      <td>0,140</td>\n",
       "      <td>0,157</td>\n",
       "      <td>1,661</td>\n",
       "    </tr>\n",
       "    <tr>\n",
       "      <th>138</th>\n",
       "      <td>139</td>\n",
       "      <td>Tanzania</td>\n",
       "      <td>3,702</td>\n",
       "      <td>0,848</td>\n",
       "      <td>0,597</td>\n",
       "      <td>0,425</td>\n",
       "      <td>0,578</td>\n",
       "      <td>0,248</td>\n",
       "      <td>0,270</td>\n",
       "      <td>0,735</td>\n",
       "    </tr>\n",
       "    <tr>\n",
       "      <th>139</th>\n",
       "      <td>140</td>\n",
       "      <td>Sierra Leone</td>\n",
       "      <td>3,574</td>\n",
       "      <td>0,686</td>\n",
       "      <td>0,416</td>\n",
       "      <td>0,273</td>\n",
       "      <td>0,387</td>\n",
       "      <td>0,202</td>\n",
       "      <td>0,055</td>\n",
       "      <td>1,556</td>\n",
       "    </tr>\n",
       "    <tr>\n",
       "      <th>140</th>\n",
       "      <td>141</td>\n",
       "      <td>Lesotho</td>\n",
       "      <td>3,512</td>\n",
       "      <td>0,839</td>\n",
       "      <td>0,848</td>\n",
       "      <td>0,000</td>\n",
       "      <td>0,419</td>\n",
       "      <td>0,076</td>\n",
       "      <td>0,018</td>\n",
       "      <td>1,312</td>\n",
       "    </tr>\n",
       "    <tr>\n",
       "      <th>141</th>\n",
       "      <td>142</td>\n",
       "      <td>Botswana</td>\n",
       "      <td>3,471</td>\n",
       "      <td>1,503</td>\n",
       "      <td>0,815</td>\n",
       "      <td>0,280</td>\n",
       "      <td>0,571</td>\n",
       "      <td>0,012</td>\n",
       "      <td>0,102</td>\n",
       "      <td>0,187</td>\n",
       "    </tr>\n",
       "    <tr>\n",
       "      <th>142</th>\n",
       "      <td>143</td>\n",
       "      <td>Rwanda</td>\n",
       "      <td>3,268</td>\n",
       "      <td>0,785</td>\n",
       "      <td>0,133</td>\n",
       "      <td>0,462</td>\n",
       "      <td>0,621</td>\n",
       "      <td>0,187</td>\n",
       "      <td>0,544</td>\n",
       "      <td>0,536</td>\n",
       "    </tr>\n",
       "    <tr>\n",
       "      <th>143</th>\n",
       "      <td>144</td>\n",
       "      <td>Zimbabwe</td>\n",
       "      <td>2,995</td>\n",
       "      <td>0,947</td>\n",
       "      <td>0,690</td>\n",
       "      <td>0,270</td>\n",
       "      <td>0,329</td>\n",
       "      <td>0,106</td>\n",
       "      <td>0,105</td>\n",
       "      <td>0,548</td>\n",
       "    </tr>\n",
       "    <tr>\n",
       "      <th>144</th>\n",
       "      <td>145</td>\n",
       "      <td>Lebanon</td>\n",
       "      <td>2,955</td>\n",
       "      <td>1,392</td>\n",
       "      <td>0,498</td>\n",
       "      <td>0,631</td>\n",
       "      <td>0,103</td>\n",
       "      <td>0,082</td>\n",
       "      <td>0,034</td>\n",
       "      <td>0,216</td>\n",
       "    </tr>\n",
       "    <tr>\n",
       "      <th>145</th>\n",
       "      <td>146</td>\n",
       "      <td>Afghanistan</td>\n",
       "      <td>2,404</td>\n",
       "      <td>0,758</td>\n",
       "      <td>0,000</td>\n",
       "      <td>0,289</td>\n",
       "      <td>0,000</td>\n",
       "      <td>0,089</td>\n",
       "      <td>0,005</td>\n",
       "      <td>1,263</td>\n",
       "    </tr>\n",
       "    <tr>\n",
       "      <th>146</th>\n",
       "      <td>147</td>\n",
       "      <td>xx</td>\n",
       "      <td>NaN</td>\n",
       "      <td>NaN</td>\n",
       "      <td>NaN</td>\n",
       "      <td>NaN</td>\n",
       "      <td>NaN</td>\n",
       "      <td>NaN</td>\n",
       "      <td>NaN</td>\n",
       "      <td>NaN</td>\n",
       "    </tr>\n",
       "  </tbody>\n",
       "</table>\n",
       "</div>"
      ],
      "text/plain": [
       "     rank       country happiness exp_GDP exp_social exp_healthy exp_freedom  \\\n",
       "137   138        Malawi     3,750   0,648      0,279       0,388       0,477   \n",
       "138   139      Tanzania     3,702   0,848      0,597       0,425       0,578   \n",
       "139   140  Sierra Leone     3,574   0,686      0,416       0,273       0,387   \n",
       "140   141       Lesotho     3,512   0,839      0,848       0,000       0,419   \n",
       "141   142      Botswana     3,471   1,503      0,815       0,280       0,571   \n",
       "142   143        Rwanda     3,268   0,785      0,133       0,462       0,621   \n",
       "143   144      Zimbabwe     2,995   0,947      0,690       0,270       0,329   \n",
       "144   145       Lebanon     2,955   1,392      0,498       0,631       0,103   \n",
       "145   146   Afghanistan     2,404   0,758      0,000       0,289       0,000   \n",
       "146   147            xx       NaN     NaN        NaN         NaN         NaN   \n",
       "\n",
       "    exp_generosity exp_corruption dystopia_residual  \n",
       "137          0,140          0,157             1,661  \n",
       "138          0,248          0,270             0,735  \n",
       "139          0,202          0,055             1,556  \n",
       "140          0,076          0,018             1,312  \n",
       "141          0,012          0,102             0,187  \n",
       "142          0,187          0,544             0,536  \n",
       "143          0,106          0,105             0,548  \n",
       "144          0,082          0,034             0,216  \n",
       "145          0,089          0,005             1,263  \n",
       "146            NaN            NaN               NaN  "
      ]
     },
     "execution_count": 648,
     "metadata": {},
     "output_type": "execute_result"
    }
   ],
   "source": [
    "data2022.tail(10)"
   ]
  },
  {
   "cell_type": "code",
   "execution_count": 650,
   "id": "704b9ac0-8bfa-4c0b-aea7-61f72140e4c6",
   "metadata": {},
   "outputs": [],
   "source": [
    "data2022 = data2022.drop(146)"
   ]
  },
  {
   "cell_type": "code",
   "execution_count": 652,
   "id": "b3f7e7c3-5cf3-44b7-9c80-7fc3004eccb1",
   "metadata": {},
   "outputs": [
    {
     "data": {
      "text/html": [
       "<div>\n",
       "<style scoped>\n",
       "    .dataframe tbody tr th:only-of-type {\n",
       "        vertical-align: middle;\n",
       "    }\n",
       "\n",
       "    .dataframe tbody tr th {\n",
       "        vertical-align: top;\n",
       "    }\n",
       "\n",
       "    .dataframe thead th {\n",
       "        text-align: right;\n",
       "    }\n",
       "</style>\n",
       "<table border=\"1\" class=\"dataframe\">\n",
       "  <thead>\n",
       "    <tr style=\"text-align: right;\">\n",
       "      <th></th>\n",
       "      <th>rank</th>\n",
       "      <th>country</th>\n",
       "      <th>happiness</th>\n",
       "      <th>exp_GDP</th>\n",
       "      <th>exp_social</th>\n",
       "      <th>exp_healthy</th>\n",
       "      <th>exp_freedom</th>\n",
       "      <th>exp_generosity</th>\n",
       "      <th>exp_corruption</th>\n",
       "      <th>dystopia_residual</th>\n",
       "    </tr>\n",
       "  </thead>\n",
       "  <tbody>\n",
       "    <tr>\n",
       "      <th>136</th>\n",
       "      <td>137</td>\n",
       "      <td>Zambia</td>\n",
       "      <td>3,760</td>\n",
       "      <td>0,930</td>\n",
       "      <td>0,577</td>\n",
       "      <td>0,306</td>\n",
       "      <td>0,525</td>\n",
       "      <td>0,203</td>\n",
       "      <td>0,083</td>\n",
       "      <td>1,135</td>\n",
       "    </tr>\n",
       "    <tr>\n",
       "      <th>137</th>\n",
       "      <td>138</td>\n",
       "      <td>Malawi</td>\n",
       "      <td>3,750</td>\n",
       "      <td>0,648</td>\n",
       "      <td>0,279</td>\n",
       "      <td>0,388</td>\n",
       "      <td>0,477</td>\n",
       "      <td>0,140</td>\n",
       "      <td>0,157</td>\n",
       "      <td>1,661</td>\n",
       "    </tr>\n",
       "    <tr>\n",
       "      <th>138</th>\n",
       "      <td>139</td>\n",
       "      <td>Tanzania</td>\n",
       "      <td>3,702</td>\n",
       "      <td>0,848</td>\n",
       "      <td>0,597</td>\n",
       "      <td>0,425</td>\n",
       "      <td>0,578</td>\n",
       "      <td>0,248</td>\n",
       "      <td>0,270</td>\n",
       "      <td>0,735</td>\n",
       "    </tr>\n",
       "    <tr>\n",
       "      <th>139</th>\n",
       "      <td>140</td>\n",
       "      <td>Sierra Leone</td>\n",
       "      <td>3,574</td>\n",
       "      <td>0,686</td>\n",
       "      <td>0,416</td>\n",
       "      <td>0,273</td>\n",
       "      <td>0,387</td>\n",
       "      <td>0,202</td>\n",
       "      <td>0,055</td>\n",
       "      <td>1,556</td>\n",
       "    </tr>\n",
       "    <tr>\n",
       "      <th>140</th>\n",
       "      <td>141</td>\n",
       "      <td>Lesotho</td>\n",
       "      <td>3,512</td>\n",
       "      <td>0,839</td>\n",
       "      <td>0,848</td>\n",
       "      <td>0,000</td>\n",
       "      <td>0,419</td>\n",
       "      <td>0,076</td>\n",
       "      <td>0,018</td>\n",
       "      <td>1,312</td>\n",
       "    </tr>\n",
       "    <tr>\n",
       "      <th>141</th>\n",
       "      <td>142</td>\n",
       "      <td>Botswana</td>\n",
       "      <td>3,471</td>\n",
       "      <td>1,503</td>\n",
       "      <td>0,815</td>\n",
       "      <td>0,280</td>\n",
       "      <td>0,571</td>\n",
       "      <td>0,012</td>\n",
       "      <td>0,102</td>\n",
       "      <td>0,187</td>\n",
       "    </tr>\n",
       "    <tr>\n",
       "      <th>142</th>\n",
       "      <td>143</td>\n",
       "      <td>Rwanda</td>\n",
       "      <td>3,268</td>\n",
       "      <td>0,785</td>\n",
       "      <td>0,133</td>\n",
       "      <td>0,462</td>\n",
       "      <td>0,621</td>\n",
       "      <td>0,187</td>\n",
       "      <td>0,544</td>\n",
       "      <td>0,536</td>\n",
       "    </tr>\n",
       "    <tr>\n",
       "      <th>143</th>\n",
       "      <td>144</td>\n",
       "      <td>Zimbabwe</td>\n",
       "      <td>2,995</td>\n",
       "      <td>0,947</td>\n",
       "      <td>0,690</td>\n",
       "      <td>0,270</td>\n",
       "      <td>0,329</td>\n",
       "      <td>0,106</td>\n",
       "      <td>0,105</td>\n",
       "      <td>0,548</td>\n",
       "    </tr>\n",
       "    <tr>\n",
       "      <th>144</th>\n",
       "      <td>145</td>\n",
       "      <td>Lebanon</td>\n",
       "      <td>2,955</td>\n",
       "      <td>1,392</td>\n",
       "      <td>0,498</td>\n",
       "      <td>0,631</td>\n",
       "      <td>0,103</td>\n",
       "      <td>0,082</td>\n",
       "      <td>0,034</td>\n",
       "      <td>0,216</td>\n",
       "    </tr>\n",
       "    <tr>\n",
       "      <th>145</th>\n",
       "      <td>146</td>\n",
       "      <td>Afghanistan</td>\n",
       "      <td>2,404</td>\n",
       "      <td>0,758</td>\n",
       "      <td>0,000</td>\n",
       "      <td>0,289</td>\n",
       "      <td>0,000</td>\n",
       "      <td>0,089</td>\n",
       "      <td>0,005</td>\n",
       "      <td>1,263</td>\n",
       "    </tr>\n",
       "  </tbody>\n",
       "</table>\n",
       "</div>"
      ],
      "text/plain": [
       "     rank       country happiness exp_GDP exp_social exp_healthy exp_freedom  \\\n",
       "136   137        Zambia     3,760   0,930      0,577       0,306       0,525   \n",
       "137   138        Malawi     3,750   0,648      0,279       0,388       0,477   \n",
       "138   139      Tanzania     3,702   0,848      0,597       0,425       0,578   \n",
       "139   140  Sierra Leone     3,574   0,686      0,416       0,273       0,387   \n",
       "140   141       Lesotho     3,512   0,839      0,848       0,000       0,419   \n",
       "141   142      Botswana     3,471   1,503      0,815       0,280       0,571   \n",
       "142   143        Rwanda     3,268   0,785      0,133       0,462       0,621   \n",
       "143   144      Zimbabwe     2,995   0,947      0,690       0,270       0,329   \n",
       "144   145       Lebanon     2,955   1,392      0,498       0,631       0,103   \n",
       "145   146   Afghanistan     2,404   0,758      0,000       0,289       0,000   \n",
       "\n",
       "    exp_generosity exp_corruption dystopia_residual  \n",
       "136          0,203          0,083             1,135  \n",
       "137          0,140          0,157             1,661  \n",
       "138          0,248          0,270             0,735  \n",
       "139          0,202          0,055             1,556  \n",
       "140          0,076          0,018             1,312  \n",
       "141          0,012          0,102             0,187  \n",
       "142          0,187          0,544             0,536  \n",
       "143          0,106          0,105             0,548  \n",
       "144          0,082          0,034             0,216  \n",
       "145          0,089          0,005             1,263  "
      ]
     },
     "execution_count": 652,
     "metadata": {},
     "output_type": "execute_result"
    }
   ],
   "source": [
    "data2022.tail(10)"
   ]
  },
  {
   "cell_type": "code",
   "execution_count": 654,
   "id": "7f642f41-e738-454c-8a9d-37eb875226fa",
   "metadata": {},
   "outputs": [
    {
     "data": {
      "text/html": [
       "<div>\n",
       "<style scoped>\n",
       "    .dataframe tbody tr th:only-of-type {\n",
       "        vertical-align: middle;\n",
       "    }\n",
       "\n",
       "    .dataframe tbody tr th {\n",
       "        vertical-align: top;\n",
       "    }\n",
       "\n",
       "    .dataframe thead th {\n",
       "        text-align: right;\n",
       "    }\n",
       "</style>\n",
       "<table border=\"1\" class=\"dataframe\">\n",
       "  <thead>\n",
       "    <tr style=\"text-align: right;\">\n",
       "      <th></th>\n",
       "      <th>rank</th>\n",
       "      <th>country</th>\n",
       "      <th>happiness</th>\n",
       "      <th>exp_GDP</th>\n",
       "      <th>exp_social</th>\n",
       "      <th>exp_healthy</th>\n",
       "      <th>exp_freedom</th>\n",
       "      <th>exp_generosity</th>\n",
       "      <th>exp_corruption</th>\n",
       "      <th>dystopia_residual</th>\n",
       "    </tr>\n",
       "  </thead>\n",
       "  <tbody>\n",
       "    <tr>\n",
       "      <th>0</th>\n",
       "      <td>Western Europe</td>\n",
       "      <td>Finland</td>\n",
       "      <td>7.842</td>\n",
       "      <td>1.446</td>\n",
       "      <td>1.106</td>\n",
       "      <td>0.741</td>\n",
       "      <td>0.691</td>\n",
       "      <td>0.124</td>\n",
       "      <td>0.481</td>\n",
       "      <td>3.253</td>\n",
       "    </tr>\n",
       "    <tr>\n",
       "      <th>1</th>\n",
       "      <td>Western Europe</td>\n",
       "      <td>Denmark</td>\n",
       "      <td>7.620</td>\n",
       "      <td>1.502</td>\n",
       "      <td>1.108</td>\n",
       "      <td>0.763</td>\n",
       "      <td>0.686</td>\n",
       "      <td>0.208</td>\n",
       "      <td>0.485</td>\n",
       "      <td>2.868</td>\n",
       "    </tr>\n",
       "    <tr>\n",
       "      <th>2</th>\n",
       "      <td>Western Europe</td>\n",
       "      <td>Switzerland</td>\n",
       "      <td>7.571</td>\n",
       "      <td>1.566</td>\n",
       "      <td>1.079</td>\n",
       "      <td>0.816</td>\n",
       "      <td>0.653</td>\n",
       "      <td>0.204</td>\n",
       "      <td>0.413</td>\n",
       "      <td>2.839</td>\n",
       "    </tr>\n",
       "    <tr>\n",
       "      <th>3</th>\n",
       "      <td>Western Europe</td>\n",
       "      <td>Iceland</td>\n",
       "      <td>7.554</td>\n",
       "      <td>1.482</td>\n",
       "      <td>1.172</td>\n",
       "      <td>0.772</td>\n",
       "      <td>0.698</td>\n",
       "      <td>0.293</td>\n",
       "      <td>0.170</td>\n",
       "      <td>2.967</td>\n",
       "    </tr>\n",
       "    <tr>\n",
       "      <th>4</th>\n",
       "      <td>Western Europe</td>\n",
       "      <td>Netherlands</td>\n",
       "      <td>7.464</td>\n",
       "      <td>1.501</td>\n",
       "      <td>1.079</td>\n",
       "      <td>0.753</td>\n",
       "      <td>0.647</td>\n",
       "      <td>0.302</td>\n",
       "      <td>0.384</td>\n",
       "      <td>2.798</td>\n",
       "    </tr>\n",
       "    <tr>\n",
       "      <th>5</th>\n",
       "      <td>Western Europe</td>\n",
       "      <td>Norway</td>\n",
       "      <td>7.392</td>\n",
       "      <td>1.543</td>\n",
       "      <td>1.108</td>\n",
       "      <td>0.782</td>\n",
       "      <td>0.703</td>\n",
       "      <td>0.249</td>\n",
       "      <td>0.427</td>\n",
       "      <td>2.580</td>\n",
       "    </tr>\n",
       "    <tr>\n",
       "      <th>6</th>\n",
       "      <td>Western Europe</td>\n",
       "      <td>Sweden</td>\n",
       "      <td>7.363</td>\n",
       "      <td>1.478</td>\n",
       "      <td>1.062</td>\n",
       "      <td>0.763</td>\n",
       "      <td>0.685</td>\n",
       "      <td>0.244</td>\n",
       "      <td>0.448</td>\n",
       "      <td>2.683</td>\n",
       "    </tr>\n",
       "    <tr>\n",
       "      <th>7</th>\n",
       "      <td>Western Europe</td>\n",
       "      <td>Luxembourg</td>\n",
       "      <td>7.324</td>\n",
       "      <td>1.751</td>\n",
       "      <td>1.003</td>\n",
       "      <td>0.760</td>\n",
       "      <td>0.639</td>\n",
       "      <td>0.166</td>\n",
       "      <td>0.353</td>\n",
       "      <td>2.653</td>\n",
       "    </tr>\n",
       "    <tr>\n",
       "      <th>8</th>\n",
       "      <td>North America and ANZ</td>\n",
       "      <td>New Zealand</td>\n",
       "      <td>7.277</td>\n",
       "      <td>1.400</td>\n",
       "      <td>1.094</td>\n",
       "      <td>0.785</td>\n",
       "      <td>0.665</td>\n",
       "      <td>0.276</td>\n",
       "      <td>0.445</td>\n",
       "      <td>2.612</td>\n",
       "    </tr>\n",
       "    <tr>\n",
       "      <th>9</th>\n",
       "      <td>Western Europe</td>\n",
       "      <td>Austria</td>\n",
       "      <td>7.268</td>\n",
       "      <td>1.492</td>\n",
       "      <td>1.062</td>\n",
       "      <td>0.782</td>\n",
       "      <td>0.640</td>\n",
       "      <td>0.215</td>\n",
       "      <td>0.292</td>\n",
       "      <td>2.784</td>\n",
       "    </tr>\n",
       "  </tbody>\n",
       "</table>\n",
       "</div>"
      ],
      "text/plain": [
       "                    rank      country  happiness  exp_GDP  exp_social  \\\n",
       "0         Western Europe      Finland      7.842    1.446       1.106   \n",
       "1         Western Europe      Denmark      7.620    1.502       1.108   \n",
       "2         Western Europe  Switzerland      7.571    1.566       1.079   \n",
       "3         Western Europe      Iceland      7.554    1.482       1.172   \n",
       "4         Western Europe  Netherlands      7.464    1.501       1.079   \n",
       "5         Western Europe       Norway      7.392    1.543       1.108   \n",
       "6         Western Europe       Sweden      7.363    1.478       1.062   \n",
       "7         Western Europe   Luxembourg      7.324    1.751       1.003   \n",
       "8  North America and ANZ  New Zealand      7.277    1.400       1.094   \n",
       "9         Western Europe      Austria      7.268    1.492       1.062   \n",
       "\n",
       "   exp_healthy  exp_freedom  exp_generosity  exp_corruption  dystopia_residual  \n",
       "0        0.741        0.691           0.124           0.481              3.253  \n",
       "1        0.763        0.686           0.208           0.485              2.868  \n",
       "2        0.816        0.653           0.204           0.413              2.839  \n",
       "3        0.772        0.698           0.293           0.170              2.967  \n",
       "4        0.753        0.647           0.302           0.384              2.798  \n",
       "5        0.782        0.703           0.249           0.427              2.580  \n",
       "6        0.763        0.685           0.244           0.448              2.683  \n",
       "7        0.760        0.639           0.166           0.353              2.653  \n",
       "8        0.785        0.665           0.276           0.445              2.612  \n",
       "9        0.782        0.640           0.215           0.292              2.784  "
      ]
     },
     "execution_count": 654,
     "metadata": {},
     "output_type": "execute_result"
    }
   ],
   "source": [
    "data2021.head(10)"
   ]
  },
  {
   "cell_type": "code",
   "execution_count": 656,
   "id": "9fa4a83f-7a8d-4c4b-b493-4f040a219403",
   "metadata": {},
   "outputs": [
    {
     "data": {
      "text/plain": [
       "Index(['rank', 'country', 'happiness', 'exp_GDP', 'exp_social', 'exp_healthy',\n",
       "       'exp_freedom', 'exp_generosity', 'exp_corruption', 'dystopia_residual'],\n",
       "      dtype='object')"
      ]
     },
     "execution_count": 656,
     "metadata": {},
     "output_type": "execute_result"
    }
   ],
   "source": [
    "data2021.columns"
   ]
  },
  {
   "cell_type": "code",
   "execution_count": 658,
   "id": "064aaf1b-b743-4806-8847-b8c875c7396d",
   "metadata": {},
   "outputs": [
    {
     "data": {
      "text/html": [
       "<div>\n",
       "<style scoped>\n",
       "    .dataframe tbody tr th:only-of-type {\n",
       "        vertical-align: middle;\n",
       "    }\n",
       "\n",
       "    .dataframe tbody tr th {\n",
       "        vertical-align: top;\n",
       "    }\n",
       "\n",
       "    .dataframe thead th {\n",
       "        text-align: right;\n",
       "    }\n",
       "</style>\n",
       "<table border=\"1\" class=\"dataframe\">\n",
       "  <thead>\n",
       "    <tr style=\"text-align: right;\">\n",
       "      <th></th>\n",
       "      <th>rank</th>\n",
       "      <th>country</th>\n",
       "      <th>happiness</th>\n",
       "      <th>exp_GDP</th>\n",
       "      <th>exp_social</th>\n",
       "      <th>exp_healthy</th>\n",
       "      <th>exp_freedom</th>\n",
       "      <th>exp_generosity</th>\n",
       "      <th>exp_corruption</th>\n",
       "      <th>dystopia_residual</th>\n",
       "    </tr>\n",
       "  </thead>\n",
       "  <tbody>\n",
       "    <tr>\n",
       "      <th>144</th>\n",
       "      <td>Sub-Saharan Africa</td>\n",
       "      <td>Lesotho</td>\n",
       "      <td>3.512</td>\n",
       "      <td>0.451</td>\n",
       "      <td>0.731</td>\n",
       "      <td>0.007</td>\n",
       "      <td>0.405</td>\n",
       "      <td>0.103</td>\n",
       "      <td>0.015</td>\n",
       "      <td>1.800</td>\n",
       "    </tr>\n",
       "    <tr>\n",
       "      <th>145</th>\n",
       "      <td>Sub-Saharan Africa</td>\n",
       "      <td>Botswana</td>\n",
       "      <td>3.467</td>\n",
       "      <td>1.099</td>\n",
       "      <td>0.724</td>\n",
       "      <td>0.340</td>\n",
       "      <td>0.539</td>\n",
       "      <td>0.027</td>\n",
       "      <td>0.088</td>\n",
       "      <td>0.648</td>\n",
       "    </tr>\n",
       "    <tr>\n",
       "      <th>146</th>\n",
       "      <td>Sub-Saharan Africa</td>\n",
       "      <td>Rwanda</td>\n",
       "      <td>3.415</td>\n",
       "      <td>0.364</td>\n",
       "      <td>0.202</td>\n",
       "      <td>0.407</td>\n",
       "      <td>0.627</td>\n",
       "      <td>0.227</td>\n",
       "      <td>0.493</td>\n",
       "      <td>1.095</td>\n",
       "    </tr>\n",
       "    <tr>\n",
       "      <th>147</th>\n",
       "      <td>Sub-Saharan Africa</td>\n",
       "      <td>Zimbabwe</td>\n",
       "      <td>3.145</td>\n",
       "      <td>0.457</td>\n",
       "      <td>0.649</td>\n",
       "      <td>0.243</td>\n",
       "      <td>0.359</td>\n",
       "      <td>0.157</td>\n",
       "      <td>0.075</td>\n",
       "      <td>1.205</td>\n",
       "    </tr>\n",
       "    <tr>\n",
       "      <th>148</th>\n",
       "      <td>South Asia</td>\n",
       "      <td>Afghanistan</td>\n",
       "      <td>2.523</td>\n",
       "      <td>0.370</td>\n",
       "      <td>0.000</td>\n",
       "      <td>0.126</td>\n",
       "      <td>0.000</td>\n",
       "      <td>0.122</td>\n",
       "      <td>0.010</td>\n",
       "      <td>1.895</td>\n",
       "    </tr>\n",
       "  </tbody>\n",
       "</table>\n",
       "</div>"
      ],
      "text/plain": [
       "                   rank      country  happiness  exp_GDP  exp_social  \\\n",
       "144  Sub-Saharan Africa      Lesotho      3.512    0.451       0.731   \n",
       "145  Sub-Saharan Africa     Botswana      3.467    1.099       0.724   \n",
       "146  Sub-Saharan Africa       Rwanda      3.415    0.364       0.202   \n",
       "147  Sub-Saharan Africa     Zimbabwe      3.145    0.457       0.649   \n",
       "148          South Asia  Afghanistan      2.523    0.370       0.000   \n",
       "\n",
       "     exp_healthy  exp_freedom  exp_generosity  exp_corruption  \\\n",
       "144        0.007        0.405           0.103           0.015   \n",
       "145        0.340        0.539           0.027           0.088   \n",
       "146        0.407        0.627           0.227           0.493   \n",
       "147        0.243        0.359           0.157           0.075   \n",
       "148        0.126        0.000           0.122           0.010   \n",
       "\n",
       "     dystopia_residual  \n",
       "144              1.800  \n",
       "145              0.648  \n",
       "146              1.095  \n",
       "147              1.205  \n",
       "148              1.895  "
      ]
     },
     "execution_count": 658,
     "metadata": {},
     "output_type": "execute_result"
    }
   ],
   "source": [
    "data2021.tail(5)"
   ]
  },
  {
   "cell_type": "code",
   "execution_count": 660,
   "id": "3413dcba-df5f-46f5-b0fe-c66b483f87f1",
   "metadata": {},
   "outputs": [],
   "source": [
    "data2021['rank'] = range(1, 1 + len(data2021))"
   ]
  },
  {
   "cell_type": "code",
   "execution_count": 662,
   "id": "9b92abda-b5e3-4092-bae3-03f6db2c5cdd",
   "metadata": {},
   "outputs": [
    {
     "data": {
      "text/plain": [
       "Index(['rank', 'country', 'happiness', 'exp_GDP', 'exp_social', 'exp_healthy',\n",
       "       'exp_freedom', 'exp_generosity', 'exp_corruption', 'dystopia_residual'],\n",
       "      dtype='object')"
      ]
     },
     "execution_count": 662,
     "metadata": {},
     "output_type": "execute_result"
    }
   ],
   "source": [
    "data2021.columns"
   ]
  },
  {
   "cell_type": "code",
   "execution_count": 668,
   "id": "0cb8803c-2abd-44ea-b3e6-9af098c395b9",
   "metadata": {},
   "outputs": [
    {
     "data": {
      "text/plain": [
       "Index(['rank', 'country', 'happiness', 'GDP', 'social_support', 'healthy',\n",
       "       'freedom', 'generosity', 'corruption', 'dystopia'],\n",
       "      dtype='object')"
      ]
     },
     "execution_count": 668,
     "metadata": {},
     "output_type": "execute_result"
    }
   ],
   "source": [
    "data2021.columns=['rank', 'country', 'happiness', 'GDP', 'social_support', 'healthy',\n",
    "       'freedom', 'generosity', 'corruption', 'dystopia']\n",
    "data2021.columns"
   ]
  },
  {
   "cell_type": "code",
   "execution_count": 670,
   "id": "3353fc6a-650a-42e8-98f6-586350360bb2",
   "metadata": {},
   "outputs": [
    {
     "data": {
      "text/plain": [
       "Index(['rank', 'country', 'happiness', 'exp_GDP', 'exp_social', 'exp_healthy',\n",
       "       'exp_freedom', 'exp_generosity', 'exp_corruption', 'dystopia_residual'],\n",
       "      dtype='object')"
      ]
     },
     "execution_count": 670,
     "metadata": {},
     "output_type": "execute_result"
    }
   ],
   "source": [
    "data2022.columns"
   ]
  },
  {
   "cell_type": "code",
   "execution_count": 672,
   "id": "8e36dea2-3e58-417b-9d89-3b8eaae2aa56",
   "metadata": {},
   "outputs": [
    {
     "data": {
      "text/plain": [
       "Index(['rank', 'country', 'happiness', 'GDP', 'social_support', 'healthy',\n",
       "       'freedom', 'generosity', 'corruption', 'dystopia'],\n",
       "      dtype='object')"
      ]
     },
     "execution_count": 672,
     "metadata": {},
     "output_type": "execute_result"
    }
   ],
   "source": [
    "data2022.columns=['rank', 'country', 'happiness', 'GDP', 'social_support', 'healthy',\n",
    "       'freedom', 'generosity', 'corruption', 'dystopia']\n",
    "data2022.columns"
   ]
  },
  {
   "cell_type": "code",
   "execution_count": 675,
   "id": "7c392f1e-9ca6-4b0e-91ae-2f6e8e908480",
   "metadata": {},
   "outputs": [
    {
     "data": {
      "text/html": [
       "<div>\n",
       "<style scoped>\n",
       "    .dataframe tbody tr th:only-of-type {\n",
       "        vertical-align: middle;\n",
       "    }\n",
       "\n",
       "    .dataframe tbody tr th {\n",
       "        vertical-align: top;\n",
       "    }\n",
       "\n",
       "    .dataframe thead th {\n",
       "        text-align: right;\n",
       "    }\n",
       "</style>\n",
       "<table border=\"1\" class=\"dataframe\">\n",
       "  <thead>\n",
       "    <tr style=\"text-align: right;\">\n",
       "      <th></th>\n",
       "      <th>country</th>\n",
       "      <th>happiness</th>\n",
       "      <th>GDP</th>\n",
       "      <th>social_support</th>\n",
       "      <th>healthy</th>\n",
       "      <th>freedom</th>\n",
       "      <th>generosity</th>\n",
       "      <th>corruption</th>\n",
       "      <th>dystopia</th>\n",
       "    </tr>\n",
       "  </thead>\n",
       "  <tbody>\n",
       "    <tr>\n",
       "      <th>count</th>\n",
       "      <td>146</td>\n",
       "      <td>146</td>\n",
       "      <td>146</td>\n",
       "      <td>146</td>\n",
       "      <td>146</td>\n",
       "      <td>146</td>\n",
       "      <td>146</td>\n",
       "      <td>146</td>\n",
       "      <td>146</td>\n",
       "    </tr>\n",
       "    <tr>\n",
       "      <th>unique</th>\n",
       "      <td>146</td>\n",
       "      <td>141</td>\n",
       "      <td>141</td>\n",
       "      <td>133</td>\n",
       "      <td>134</td>\n",
       "      <td>128</td>\n",
       "      <td>116</td>\n",
       "      <td>116</td>\n",
       "      <td>138</td>\n",
       "    </tr>\n",
       "    <tr>\n",
       "      <th>top</th>\n",
       "      <td>Finland</td>\n",
       "      <td>4,516</td>\n",
       "      <td>1,815</td>\n",
       "      <td>0,865</td>\n",
       "      <td>0,803</td>\n",
       "      <td>0,448</td>\n",
       "      <td>0,089</td>\n",
       "      <td>0,077</td>\n",
       "      <td>1,895</td>\n",
       "    </tr>\n",
       "    <tr>\n",
       "      <th>freq</th>\n",
       "      <td>1</td>\n",
       "      <td>2</td>\n",
       "      <td>3</td>\n",
       "      <td>3</td>\n",
       "      <td>2</td>\n",
       "      <td>3</td>\n",
       "      <td>4</td>\n",
       "      <td>4</td>\n",
       "      <td>2</td>\n",
       "    </tr>\n",
       "  </tbody>\n",
       "</table>\n",
       "</div>"
      ],
      "text/plain": [
       "        country happiness    GDP social_support healthy freedom generosity  \\\n",
       "count       146       146    146            146     146     146        146   \n",
       "unique      146       141    141            133     134     128        116   \n",
       "top     Finland     4,516  1,815          0,865   0,803   0,448      0,089   \n",
       "freq          1         2      3              3       2       3          4   \n",
       "\n",
       "       corruption dystopia  \n",
       "count         146      146  \n",
       "unique        116      138  \n",
       "top         0,077    1,895  \n",
       "freq            4        2  "
      ]
     },
     "execution_count": 675,
     "metadata": {},
     "output_type": "execute_result"
    }
   ],
   "source": [
    "data2022.describe(include=\"object\")"
   ]
  },
  {
   "cell_type": "code",
   "execution_count": 715,
   "id": "cd1151e7-c9d0-45d3-8bd8-45cde2e5c53b",
   "metadata": {},
   "outputs": [
    {
     "data": {
      "text/plain": [
       "Index(['rank', 'country', 'happiness', 'GDP', 'social_support', 'healthy',\n",
       "       'freedom', 'generosity', 'corruption', 'dystopia', 'year'],\n",
       "      dtype='object')"
      ]
     },
     "execution_count": 715,
     "metadata": {},
     "output_type": "execute_result"
    }
   ],
   "source": [
    "year_value = 2021\n",
    "\n",
    "# Create a new column with the year 2021\n",
    "data2021['year'] = year_value\n",
    "data2021.columns"
   ]
  },
  {
   "cell_type": "code",
   "execution_count": 717,
   "id": "3feb99d6-1584-49ae-aba8-a92a9a68e77f",
   "metadata": {},
   "outputs": [
    {
     "data": {
      "text/html": [
       "<div>\n",
       "<style scoped>\n",
       "    .dataframe tbody tr th:only-of-type {\n",
       "        vertical-align: middle;\n",
       "    }\n",
       "\n",
       "    .dataframe tbody tr th {\n",
       "        vertical-align: top;\n",
       "    }\n",
       "\n",
       "    .dataframe thead th {\n",
       "        text-align: right;\n",
       "    }\n",
       "</style>\n",
       "<table border=\"1\" class=\"dataframe\">\n",
       "  <thead>\n",
       "    <tr style=\"text-align: right;\">\n",
       "      <th></th>\n",
       "      <th>rank</th>\n",
       "      <th>country</th>\n",
       "      <th>happiness</th>\n",
       "      <th>GDP</th>\n",
       "      <th>social_support</th>\n",
       "      <th>healthy</th>\n",
       "      <th>freedom</th>\n",
       "      <th>generosity</th>\n",
       "      <th>corruption</th>\n",
       "      <th>dystopia</th>\n",
       "      <th>year</th>\n",
       "    </tr>\n",
       "  </thead>\n",
       "  <tbody>\n",
       "    <tr>\n",
       "      <th>144</th>\n",
       "      <td>145</td>\n",
       "      <td>Lesotho</td>\n",
       "      <td>3.512</td>\n",
       "      <td>0.451</td>\n",
       "      <td>0.731</td>\n",
       "      <td>0.007</td>\n",
       "      <td>0.405</td>\n",
       "      <td>0.103</td>\n",
       "      <td>0.015</td>\n",
       "      <td>1.800</td>\n",
       "      <td>2021</td>\n",
       "    </tr>\n",
       "    <tr>\n",
       "      <th>145</th>\n",
       "      <td>146</td>\n",
       "      <td>Botswana</td>\n",
       "      <td>3.467</td>\n",
       "      <td>1.099</td>\n",
       "      <td>0.724</td>\n",
       "      <td>0.340</td>\n",
       "      <td>0.539</td>\n",
       "      <td>0.027</td>\n",
       "      <td>0.088</td>\n",
       "      <td>0.648</td>\n",
       "      <td>2021</td>\n",
       "    </tr>\n",
       "    <tr>\n",
       "      <th>146</th>\n",
       "      <td>147</td>\n",
       "      <td>Rwanda</td>\n",
       "      <td>3.415</td>\n",
       "      <td>0.364</td>\n",
       "      <td>0.202</td>\n",
       "      <td>0.407</td>\n",
       "      <td>0.627</td>\n",
       "      <td>0.227</td>\n",
       "      <td>0.493</td>\n",
       "      <td>1.095</td>\n",
       "      <td>2021</td>\n",
       "    </tr>\n",
       "    <tr>\n",
       "      <th>147</th>\n",
       "      <td>148</td>\n",
       "      <td>Zimbabwe</td>\n",
       "      <td>3.145</td>\n",
       "      <td>0.457</td>\n",
       "      <td>0.649</td>\n",
       "      <td>0.243</td>\n",
       "      <td>0.359</td>\n",
       "      <td>0.157</td>\n",
       "      <td>0.075</td>\n",
       "      <td>1.205</td>\n",
       "      <td>2021</td>\n",
       "    </tr>\n",
       "    <tr>\n",
       "      <th>148</th>\n",
       "      <td>149</td>\n",
       "      <td>Afghanistan</td>\n",
       "      <td>2.523</td>\n",
       "      <td>0.370</td>\n",
       "      <td>0.000</td>\n",
       "      <td>0.126</td>\n",
       "      <td>0.000</td>\n",
       "      <td>0.122</td>\n",
       "      <td>0.010</td>\n",
       "      <td>1.895</td>\n",
       "      <td>2021</td>\n",
       "    </tr>\n",
       "  </tbody>\n",
       "</table>\n",
       "</div>"
      ],
      "text/plain": [
       "     rank      country  happiness    GDP  social_support  healthy  freedom  \\\n",
       "144   145      Lesotho      3.512  0.451           0.731    0.007    0.405   \n",
       "145   146     Botswana      3.467  1.099           0.724    0.340    0.539   \n",
       "146   147       Rwanda      3.415  0.364           0.202    0.407    0.627   \n",
       "147   148     Zimbabwe      3.145  0.457           0.649    0.243    0.359   \n",
       "148   149  Afghanistan      2.523  0.370           0.000    0.126    0.000   \n",
       "\n",
       "     generosity  corruption  dystopia  year  \n",
       "144       0.103       0.015     1.800  2021  \n",
       "145       0.027       0.088     0.648  2021  \n",
       "146       0.227       0.493     1.095  2021  \n",
       "147       0.157       0.075     1.205  2021  \n",
       "148       0.122       0.010     1.895  2021  "
      ]
     },
     "execution_count": 717,
     "metadata": {},
     "output_type": "execute_result"
    }
   ],
   "source": [
    "data2021.tail(5)"
   ]
  },
  {
   "cell_type": "code",
   "execution_count": 719,
   "id": "aa337fb2-438b-48cf-9521-4b0e9171e6a4",
   "metadata": {},
   "outputs": [
    {
     "data": {
      "text/plain": [
       "Index(['rank', 'country', 'happiness', 'GDP', 'social_support', 'healthy',\n",
       "       'freedom', 'generosity', 'corruption', 'dystopia', 'year'],\n",
       "      dtype='object')"
      ]
     },
     "execution_count": 719,
     "metadata": {},
     "output_type": "execute_result"
    }
   ],
   "source": [
    "year2_value = 2022\n",
    "\n",
    "# Create a new column with the year 2021\n",
    "data2022['year'] = year2_value\n",
    "data2022.columns"
   ]
  },
  {
   "cell_type": "code",
   "execution_count": 721,
   "id": "c35ef196-0ec1-4c01-bcfd-201dba1b0910",
   "metadata": {},
   "outputs": [
    {
     "data": {
      "text/html": [
       "<div>\n",
       "<style scoped>\n",
       "    .dataframe tbody tr th:only-of-type {\n",
       "        vertical-align: middle;\n",
       "    }\n",
       "\n",
       "    .dataframe tbody tr th {\n",
       "        vertical-align: top;\n",
       "    }\n",
       "\n",
       "    .dataframe thead th {\n",
       "        text-align: right;\n",
       "    }\n",
       "</style>\n",
       "<table border=\"1\" class=\"dataframe\">\n",
       "  <thead>\n",
       "    <tr style=\"text-align: right;\">\n",
       "      <th></th>\n",
       "      <th>rank</th>\n",
       "      <th>country</th>\n",
       "      <th>happiness</th>\n",
       "      <th>GDP</th>\n",
       "      <th>social_support</th>\n",
       "      <th>healthy</th>\n",
       "      <th>freedom</th>\n",
       "      <th>generosity</th>\n",
       "      <th>corruption</th>\n",
       "      <th>dystopia</th>\n",
       "      <th>year</th>\n",
       "    </tr>\n",
       "  </thead>\n",
       "  <tbody>\n",
       "    <tr>\n",
       "      <th>141</th>\n",
       "      <td>142</td>\n",
       "      <td>Botswana</td>\n",
       "      <td>3,471</td>\n",
       "      <td>1,503</td>\n",
       "      <td>0,815</td>\n",
       "      <td>0,280</td>\n",
       "      <td>0,571</td>\n",
       "      <td>0,012</td>\n",
       "      <td>0,102</td>\n",
       "      <td>0,187</td>\n",
       "      <td>2022</td>\n",
       "    </tr>\n",
       "    <tr>\n",
       "      <th>142</th>\n",
       "      <td>143</td>\n",
       "      <td>Rwanda</td>\n",
       "      <td>3,268</td>\n",
       "      <td>0,785</td>\n",
       "      <td>0,133</td>\n",
       "      <td>0,462</td>\n",
       "      <td>0,621</td>\n",
       "      <td>0,187</td>\n",
       "      <td>0,544</td>\n",
       "      <td>0,536</td>\n",
       "      <td>2022</td>\n",
       "    </tr>\n",
       "    <tr>\n",
       "      <th>143</th>\n",
       "      <td>144</td>\n",
       "      <td>Zimbabwe</td>\n",
       "      <td>2,995</td>\n",
       "      <td>0,947</td>\n",
       "      <td>0,690</td>\n",
       "      <td>0,270</td>\n",
       "      <td>0,329</td>\n",
       "      <td>0,106</td>\n",
       "      <td>0,105</td>\n",
       "      <td>0,548</td>\n",
       "      <td>2022</td>\n",
       "    </tr>\n",
       "    <tr>\n",
       "      <th>144</th>\n",
       "      <td>145</td>\n",
       "      <td>Lebanon</td>\n",
       "      <td>2,955</td>\n",
       "      <td>1,392</td>\n",
       "      <td>0,498</td>\n",
       "      <td>0,631</td>\n",
       "      <td>0,103</td>\n",
       "      <td>0,082</td>\n",
       "      <td>0,034</td>\n",
       "      <td>0,216</td>\n",
       "      <td>2022</td>\n",
       "    </tr>\n",
       "    <tr>\n",
       "      <th>145</th>\n",
       "      <td>146</td>\n",
       "      <td>Afghanistan</td>\n",
       "      <td>2,404</td>\n",
       "      <td>0,758</td>\n",
       "      <td>0,000</td>\n",
       "      <td>0,289</td>\n",
       "      <td>0,000</td>\n",
       "      <td>0,089</td>\n",
       "      <td>0,005</td>\n",
       "      <td>1,263</td>\n",
       "      <td>2022</td>\n",
       "    </tr>\n",
       "  </tbody>\n",
       "</table>\n",
       "</div>"
      ],
      "text/plain": [
       "     rank      country happiness    GDP social_support healthy freedom  \\\n",
       "141   142     Botswana     3,471  1,503          0,815   0,280   0,571   \n",
       "142   143       Rwanda     3,268  0,785          0,133   0,462   0,621   \n",
       "143   144     Zimbabwe     2,995  0,947          0,690   0,270   0,329   \n",
       "144   145      Lebanon     2,955  1,392          0,498   0,631   0,103   \n",
       "145   146  Afghanistan     2,404  0,758          0,000   0,289   0,000   \n",
       "\n",
       "    generosity corruption dystopia  year  \n",
       "141      0,012      0,102    0,187  2022  \n",
       "142      0,187      0,544    0,536  2022  \n",
       "143      0,106      0,105    0,548  2022  \n",
       "144      0,082      0,034    0,216  2022  \n",
       "145      0,089      0,005    1,263  2022  "
      ]
     },
     "execution_count": 721,
     "metadata": {},
     "output_type": "execute_result"
    }
   ],
   "source": [
    "data2022.tail(5)"
   ]
  },
  {
   "cell_type": "code",
   "execution_count": null,
   "id": "e1d44bbe-0a5b-4911-a73a-5e8217c12154",
   "metadata": {},
   "outputs": [],
   "source": []
  }
 ],
 "metadata": {
  "kernelspec": {
   "display_name": "Python 3 (ipykernel)",
   "language": "python",
   "name": "python3"
  },
  "language_info": {
   "codemirror_mode": {
    "name": "ipython",
    "version": 3
   },
   "file_extension": ".py",
   "mimetype": "text/x-python",
   "name": "python",
   "nbconvert_exporter": "python",
   "pygments_lexer": "ipython3",
   "version": "3.12.2"
  }
 },
 "nbformat": 4,
 "nbformat_minor": 5
}
